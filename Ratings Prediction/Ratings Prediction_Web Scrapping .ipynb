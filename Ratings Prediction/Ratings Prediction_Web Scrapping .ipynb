{
 "cells": [
  {
   "cell_type": "code",
   "execution_count": 1,
   "id": "75f1f1f1",
   "metadata": {},
   "outputs": [],
   "source": [
    "# Importing the libraries\n",
    "\n",
    "import selenium                    # Library used to work with selenium\n",
    "import pandas as pd              # to create DataFrame\n",
    "from selenium import webdriver    # Importing web driver module from selenium to open up automated crome(web) window\n",
    "import warnings                       # To ignore any sort of warning\n",
    "warnings.filterwarnings('ignore')\n",
    "import time                           # Used to stop search engine for few seconds"
   ]
  },
  {
   "cell_type": "code",
   "execution_count": 2,
   "id": "ac741e4e",
   "metadata": {},
   "outputs": [],
   "source": [
    "from selenium.common.exceptions import StaleElementReferenceException, NoSuchElementException"
   ]
  },
  {
   "cell_type": "code",
   "execution_count": 3,
   "id": "66f6b5ac",
   "metadata": {},
   "outputs": [],
   "source": [
    "driver = webdriver.Chrome(r\"C:\\Web Driver\\chromedriver.exe\")"
   ]
  },
  {
   "cell_type": "code",
   "execution_count": 4,
   "id": "b3cfbffc",
   "metadata": {},
   "outputs": [],
   "source": [
    "driver.get('http://www.flipkart.com/')"
   ]
  },
  {
   "cell_type": "code",
   "execution_count": 5,
   "id": "e951b016",
   "metadata": {},
   "outputs": [],
   "source": [
    "# Closing the login Pop-up by clicking on the close button automatically\n",
    "\n",
    "close_button = driver.find_element_by_xpath(\"/html/body/div[2]/div/div/button\")\n",
    "close_button.click()"
   ]
  },
  {
   "cell_type": "markdown",
   "id": "49914434",
   "metadata": {},
   "source": [
    "SCRAPPING REVIEWS FOR \"LAPTOPS\""
   ]
  },
  {
   "cell_type": "code",
   "execution_count": 6,
   "id": "5e68c47f",
   "metadata": {},
   "outputs": [],
   "source": [
    "#Make empty lists\n",
    "\n",
    "product_urls = []\n",
    "review = []\n",
    "rating = []"
   ]
  },
  {
   "cell_type": "code",
   "execution_count": 7,
   "id": "60cb9253",
   "metadata": {},
   "outputs": [],
   "source": [
    "def get_reviews():\n",
    "\n",
    "    user_inp = input('Enter the product you want to search :')     # Entering user input for the product to be searched\n",
    "\n",
    "    product = driver.find_element_by_class_name(\"_3704LK\")                \n",
    "    product.send_keys(user_inp)\n",
    "\n",
    "    search = driver.find_element_by_xpath(\"/html/body/div[1]/div/div[1]/div[1]/div[2]/div[2]/form/div/button\") # Clicking on Search button\n",
    "    search.click()\n",
    "    \n",
    "    time.sleep(7)\n",
    "\n",
    "    for page in range(0,3):     #for loop for scrapping product from 3 pages\n",
    "        url=driver.find_elements_by_xpath(\"//a[@class='_1fQZEK']\")        #scraping urls of different pages\n",
    "        for i in url:\n",
    "            product_urls.append(i.get_attribute(\"href\"))                        #appending the urls in product_urls list\n",
    "        next_button = driver.find_elements_by_xpath(\"//a[@class='_1LKTO3']\")\n",
    "        try:\n",
    "            driver.get(next_button[1].get_attribute('href'))          #Clicking on next button\n",
    "        except:\n",
    "            driver.get(next_button[0].get_attribute('href'))  \n",
    "        time.sleep(4)\n",
    "\n",
    "    for url2 in product_urls:         # Opening product urls one by one\n",
    "        driver.get(url2)\n",
    "        time.sleep(4)\n",
    "\n",
    "        try:\n",
    "            full=driver.find_element_by_xpath(\"//div[@class='_3UAT2v _16PBlm']\")    # Opening full review page \n",
    "            full.click()\n",
    "            time.sleep(2)\n",
    "        \n",
    "            ratings_urls = []\n",
    "        \n",
    "            url3=driver.find_elements_by_class_name(\"ge-49M\")        #scraping urls of all pages in the full review page\n",
    "            for i in url3:\n",
    "                ratings_urls.append(i.get_attribute(\"href\"))         #appending the urls in ratings_urls list\n",
    "        \n",
    "            for url4 in ratings_urls:           # Opening review pages of a product one by one\n",
    "                driver.get(url4)\n",
    "    \n",
    "                review_tags = driver.find_elements_by_xpath(\"//p[@class='_2-N8zT']\")\n",
    "                for i in review_tags:\n",
    "                    review.append(i.text)\n",
    "    \n",
    "                rating_tags = driver.find_elements_by_xpath(\"//div[@class='col _2wzgFH K0kLPL']\")\n",
    "                for i in rating_tags:\n",
    "                    rating.append(i.text.split()[0])\n",
    "        \n",
    "        except NoSuchElementException:\n",
    "            review_tags = driver.find_elements_by_xpath(\"//p[@class='_2-N8zT']\")\n",
    "            for i in review_tags:\n",
    "                review.append(i.text)\n",
    "    \n",
    "            rating_tags = driver.find_elements_by_xpath(\"//div[@class='col _2wzgFH']\")\n",
    "            for i in rating_tags:\n",
    "                rating.append(i.text.split()[0])"
   ]
  },
  {
   "cell_type": "code",
   "execution_count": 8,
   "id": "f2f9e0d7",
   "metadata": {},
   "outputs": [
    {
     "name": "stdout",
     "output_type": "stream",
     "text": [
      "Enter the product you want to search :laptops\n"
     ]
    }
   ],
   "source": [
    "get_reviews()"
   ]
  },
  {
   "cell_type": "code",
   "execution_count": 9,
   "id": "036d1db0",
   "metadata": {},
   "outputs": [
    {
     "data": {
      "text/html": [
       "<div>\n",
       "<style scoped>\n",
       "    .dataframe tbody tr th:only-of-type {\n",
       "        vertical-align: middle;\n",
       "    }\n",
       "\n",
       "    .dataframe tbody tr th {\n",
       "        vertical-align: top;\n",
       "    }\n",
       "\n",
       "    .dataframe thead th {\n",
       "        text-align: right;\n",
       "    }\n",
       "</style>\n",
       "<table border=\"1\" class=\"dataframe\">\n",
       "  <thead>\n",
       "    <tr style=\"text-align: right;\">\n",
       "      <th></th>\n",
       "      <th>Reviews</th>\n",
       "      <th>Ratings</th>\n",
       "    </tr>\n",
       "  </thead>\n",
       "  <tbody>\n",
       "    <tr>\n",
       "      <th>0</th>\n",
       "      <td>Classy product</td>\n",
       "      <td>5</td>\n",
       "    </tr>\n",
       "    <tr>\n",
       "      <th>1</th>\n",
       "      <td>Must buy!</td>\n",
       "      <td>5</td>\n",
       "    </tr>\n",
       "    <tr>\n",
       "      <th>2</th>\n",
       "      <td>Classy product</td>\n",
       "      <td>5</td>\n",
       "    </tr>\n",
       "    <tr>\n",
       "      <th>3</th>\n",
       "      <td>Excellent</td>\n",
       "      <td>5</td>\n",
       "    </tr>\n",
       "    <tr>\n",
       "      <th>4</th>\n",
       "      <td>Wonderful</td>\n",
       "      <td>4</td>\n",
       "    </tr>\n",
       "    <tr>\n",
       "      <th>...</th>\n",
       "      <td>...</td>\n",
       "      <td>...</td>\n",
       "    </tr>\n",
       "    <tr>\n",
       "      <th>2346</th>\n",
       "      <td>Super!</td>\n",
       "      <td>5</td>\n",
       "    </tr>\n",
       "    <tr>\n",
       "      <th>2347</th>\n",
       "      <td>Worth every penny</td>\n",
       "      <td>5</td>\n",
       "    </tr>\n",
       "    <tr>\n",
       "      <th>2348</th>\n",
       "      <td>Must buy!</td>\n",
       "      <td>5</td>\n",
       "    </tr>\n",
       "    <tr>\n",
       "      <th>2349</th>\n",
       "      <td>Mind-blowing purchase</td>\n",
       "      <td>5</td>\n",
       "    </tr>\n",
       "    <tr>\n",
       "      <th>2350</th>\n",
       "      <td>Excellent</td>\n",
       "      <td>5</td>\n",
       "    </tr>\n",
       "  </tbody>\n",
       "</table>\n",
       "<p>2351 rows × 2 columns</p>\n",
       "</div>"
      ],
      "text/plain": [
       "                    Reviews Ratings\n",
       "0            Classy product       5\n",
       "1                 Must buy!       5\n",
       "2            Classy product       5\n",
       "3                 Excellent       5\n",
       "4                 Wonderful       4\n",
       "...                     ...     ...\n",
       "2346                 Super!       5\n",
       "2347      Worth every penny       5\n",
       "2348              Must buy!       5\n",
       "2349  Mind-blowing purchase       5\n",
       "2350              Excellent       5\n",
       "\n",
       "[2351 rows x 2 columns]"
      ]
     },
     "execution_count": 9,
     "metadata": {},
     "output_type": "execute_result"
    }
   ],
   "source": [
    "import pandas as pd\n",
    "\n",
    "prod_df = pd.DataFrame({'Reviews':review,'Ratings':rating})\n",
    "prod_df"
   ]
  },
  {
   "cell_type": "markdown",
   "id": "ed3b13f8",
   "metadata": {},
   "source": [
    "SCRAPPING REVIEWS FOR \"PHONES\""
   ]
  },
  {
   "cell_type": "code",
   "execution_count": 10,
   "id": "f08f1b56",
   "metadata": {},
   "outputs": [],
   "source": [
    "driver = webdriver.Chrome(r\"C:\\Web Driver\\chromedriver.exe\")"
   ]
  },
  {
   "cell_type": "code",
   "execution_count": 11,
   "id": "bcf34376",
   "metadata": {},
   "outputs": [],
   "source": [
    "driver.get('http://www.flipkart.com/')"
   ]
  },
  {
   "cell_type": "code",
   "execution_count": 12,
   "id": "b4cb42b7",
   "metadata": {},
   "outputs": [],
   "source": [
    "# Closing the login Pop-up by clicking on the close button automatically\n",
    "\n",
    "close_button = driver.find_element_by_xpath(\"/html/body/div[2]/div/div/button\")\n",
    "close_button.click()"
   ]
  },
  {
   "cell_type": "code",
   "execution_count": 13,
   "id": "8277cebb",
   "metadata": {},
   "outputs": [
    {
     "name": "stdout",
     "output_type": "stream",
     "text": [
      "Enter the product you want to search :phones\n"
     ]
    }
   ],
   "source": [
    "product_urls = []\n",
    "\n",
    "get_reviews()"
   ]
  },
  {
   "cell_type": "code",
   "execution_count": 14,
   "id": "77c65321",
   "metadata": {},
   "outputs": [
    {
     "data": {
      "text/html": [
       "<div>\n",
       "<style scoped>\n",
       "    .dataframe tbody tr th:only-of-type {\n",
       "        vertical-align: middle;\n",
       "    }\n",
       "\n",
       "    .dataframe tbody tr th {\n",
       "        vertical-align: top;\n",
       "    }\n",
       "\n",
       "    .dataframe thead th {\n",
       "        text-align: right;\n",
       "    }\n",
       "</style>\n",
       "<table border=\"1\" class=\"dataframe\">\n",
       "  <thead>\n",
       "    <tr style=\"text-align: right;\">\n",
       "      <th></th>\n",
       "      <th>Reviews</th>\n",
       "      <th>Ratings</th>\n",
       "    </tr>\n",
       "  </thead>\n",
       "  <tbody>\n",
       "    <tr>\n",
       "      <th>0</th>\n",
       "      <td>Classy product</td>\n",
       "      <td>5</td>\n",
       "    </tr>\n",
       "    <tr>\n",
       "      <th>1</th>\n",
       "      <td>Must buy!</td>\n",
       "      <td>5</td>\n",
       "    </tr>\n",
       "    <tr>\n",
       "      <th>2</th>\n",
       "      <td>Classy product</td>\n",
       "      <td>5</td>\n",
       "    </tr>\n",
       "    <tr>\n",
       "      <th>3</th>\n",
       "      <td>Excellent</td>\n",
       "      <td>5</td>\n",
       "    </tr>\n",
       "    <tr>\n",
       "      <th>4</th>\n",
       "      <td>Wonderful</td>\n",
       "      <td>4</td>\n",
       "    </tr>\n",
       "    <tr>\n",
       "      <th>...</th>\n",
       "      <td>...</td>\n",
       "      <td>...</td>\n",
       "    </tr>\n",
       "    <tr>\n",
       "      <th>7532</th>\n",
       "      <td>Classy product</td>\n",
       "      <td>5</td>\n",
       "    </tr>\n",
       "    <tr>\n",
       "      <th>7533</th>\n",
       "      <td>Simply awesome</td>\n",
       "      <td>5</td>\n",
       "    </tr>\n",
       "    <tr>\n",
       "      <th>7534</th>\n",
       "      <td>Great product</td>\n",
       "      <td>5</td>\n",
       "    </tr>\n",
       "    <tr>\n",
       "      <th>7535</th>\n",
       "      <td>Good</td>\n",
       "      <td>3</td>\n",
       "    </tr>\n",
       "    <tr>\n",
       "      <th>7536</th>\n",
       "      <td>Wonderful</td>\n",
       "      <td>4</td>\n",
       "    </tr>\n",
       "  </tbody>\n",
       "</table>\n",
       "<p>7537 rows × 2 columns</p>\n",
       "</div>"
      ],
      "text/plain": [
       "             Reviews Ratings\n",
       "0     Classy product       5\n",
       "1          Must buy!       5\n",
       "2     Classy product       5\n",
       "3          Excellent       5\n",
       "4          Wonderful       4\n",
       "...              ...     ...\n",
       "7532  Classy product       5\n",
       "7533  Simply awesome       5\n",
       "7534   Great product       5\n",
       "7535            Good       3\n",
       "7536       Wonderful       4\n",
       "\n",
       "[7537 rows x 2 columns]"
      ]
     },
     "execution_count": 14,
     "metadata": {},
     "output_type": "execute_result"
    }
   ],
   "source": [
    "import pandas as pd\n",
    "\n",
    "prod_df = pd.DataFrame({'Reviews':review,'Ratings':rating})\n",
    "prod_df"
   ]
  },
  {
   "cell_type": "markdown",
   "id": "e5b83a50",
   "metadata": {},
   "source": [
    "SCRAPPING REVIEWS FOR \"Smart Watches\" "
   ]
  },
  {
   "cell_type": "code",
   "execution_count": 15,
   "id": "3f2278d3",
   "metadata": {},
   "outputs": [],
   "source": [
    "driver = webdriver.Chrome(r\"C:\\Web Driver\\chromedriver.exe\")"
   ]
  },
  {
   "cell_type": "code",
   "execution_count": 16,
   "id": "adc90451",
   "metadata": {},
   "outputs": [],
   "source": [
    "driver.get('http://www.flipkart.com/')"
   ]
  },
  {
   "cell_type": "code",
   "execution_count": 17,
   "id": "5827b0ab",
   "metadata": {},
   "outputs": [],
   "source": [
    "# Closing the login Pop-up by clicking on the close button automatically\n",
    "\n",
    "close_button = driver.find_element_by_xpath(\"/html/body/div[2]/div/div/button\")\n",
    "close_button.click()"
   ]
  },
  {
   "cell_type": "code",
   "execution_count": 18,
   "id": "4a7335a4",
   "metadata": {},
   "outputs": [
    {
     "name": "stdout",
     "output_type": "stream",
     "text": [
      "Enter the product you want to search :Smart Watches\n"
     ]
    }
   ],
   "source": [
    "product_urls = []\n",
    "\n",
    "get_reviews()"
   ]
  },
  {
   "cell_type": "code",
   "execution_count": 52,
   "id": "85a09659",
   "metadata": {},
   "outputs": [
    {
     "data": {
      "text/html": [
       "<div>\n",
       "<style scoped>\n",
       "    .dataframe tbody tr th:only-of-type {\n",
       "        vertical-align: middle;\n",
       "    }\n",
       "\n",
       "    .dataframe tbody tr th {\n",
       "        vertical-align: top;\n",
       "    }\n",
       "\n",
       "    .dataframe thead th {\n",
       "        text-align: right;\n",
       "    }\n",
       "</style>\n",
       "<table border=\"1\" class=\"dataframe\">\n",
       "  <thead>\n",
       "    <tr style=\"text-align: right;\">\n",
       "      <th></th>\n",
       "      <th>Reviews</th>\n",
       "      <th>Ratings</th>\n",
       "    </tr>\n",
       "  </thead>\n",
       "  <tbody>\n",
       "    <tr>\n",
       "      <th>0</th>\n",
       "      <td>Classy product</td>\n",
       "      <td>5</td>\n",
       "    </tr>\n",
       "    <tr>\n",
       "      <th>1</th>\n",
       "      <td>Must buy!</td>\n",
       "      <td>5</td>\n",
       "    </tr>\n",
       "    <tr>\n",
       "      <th>2</th>\n",
       "      <td>Classy product</td>\n",
       "      <td>5</td>\n",
       "    </tr>\n",
       "    <tr>\n",
       "      <th>3</th>\n",
       "      <td>Excellent</td>\n",
       "      <td>5</td>\n",
       "    </tr>\n",
       "    <tr>\n",
       "      <th>4</th>\n",
       "      <td>Wonderful</td>\n",
       "      <td>4</td>\n",
       "    </tr>\n",
       "    <tr>\n",
       "      <th>...</th>\n",
       "      <td>...</td>\n",
       "      <td>...</td>\n",
       "    </tr>\n",
       "    <tr>\n",
       "      <th>13760</th>\n",
       "      <td>Simply awesome</td>\n",
       "      <td>5</td>\n",
       "    </tr>\n",
       "    <tr>\n",
       "      <th>13761</th>\n",
       "      <td>Wonderful</td>\n",
       "      <td>4</td>\n",
       "    </tr>\n",
       "    <tr>\n",
       "      <th>13762</th>\n",
       "      <td>Simply awesome</td>\n",
       "      <td>5</td>\n",
       "    </tr>\n",
       "    <tr>\n",
       "      <th>13763</th>\n",
       "      <td>Pretty good</td>\n",
       "      <td>4</td>\n",
       "    </tr>\n",
       "    <tr>\n",
       "      <th>13764</th>\n",
       "      <td>Brilliant</td>\n",
       "      <td>5</td>\n",
       "    </tr>\n",
       "  </tbody>\n",
       "</table>\n",
       "<p>13765 rows × 2 columns</p>\n",
       "</div>"
      ],
      "text/plain": [
       "              Reviews Ratings\n",
       "0      Classy product       5\n",
       "1           Must buy!       5\n",
       "2      Classy product       5\n",
       "3           Excellent       5\n",
       "4           Wonderful       4\n",
       "...               ...     ...\n",
       "13760  Simply awesome       5\n",
       "13761       Wonderful       4\n",
       "13762  Simply awesome       5\n",
       "13763     Pretty good       4\n",
       "13764       Brilliant       5\n",
       "\n",
       "[13765 rows x 2 columns]"
      ]
     },
     "execution_count": 52,
     "metadata": {},
     "output_type": "execute_result"
    }
   ],
   "source": [
    "import pandas as pd\n",
    "\n",
    "prod_df = pd.DataFrame({'Reviews':review,'Ratings':rating})\n",
    "prod_df"
   ]
  },
  {
   "cell_type": "markdown",
   "id": "88a68ed4",
   "metadata": {},
   "source": [
    "SCRAPPING REVIEWS FOR \"Monitors\""
   ]
  },
  {
   "cell_type": "code",
   "execution_count": 53,
   "id": "6580ac24",
   "metadata": {},
   "outputs": [],
   "source": [
    "driver = webdriver.Chrome(r\"C:\\Web Driver\\chromedriver.exe\")"
   ]
  },
  {
   "cell_type": "code",
   "execution_count": 54,
   "id": "fba97352",
   "metadata": {},
   "outputs": [],
   "source": [
    "driver.get('http://www.flipkart.com/')"
   ]
  },
  {
   "cell_type": "code",
   "execution_count": 55,
   "id": "24be44a5",
   "metadata": {},
   "outputs": [],
   "source": [
    "# Closing the login Pop-up by clicking on the close button automatically\n",
    "\n",
    "close_button = driver.find_element_by_xpath(\"/html/body/div[2]/div/div/button\")\n",
    "close_button.click()"
   ]
  },
  {
   "cell_type": "code",
   "execution_count": 56,
   "id": "8218d7bf",
   "metadata": {},
   "outputs": [
    {
     "name": "stdout",
     "output_type": "stream",
     "text": [
      "Enter the product you want to search :Monitors\n"
     ]
    }
   ],
   "source": [
    "product_urls = []\n",
    "\n",
    "get_reviews()"
   ]
  },
  {
   "cell_type": "code",
   "execution_count": 66,
   "id": "e3e8696a",
   "metadata": {},
   "outputs": [
    {
     "data": {
      "text/html": [
       "<div>\n",
       "<style scoped>\n",
       "    .dataframe tbody tr th:only-of-type {\n",
       "        vertical-align: middle;\n",
       "    }\n",
       "\n",
       "    .dataframe tbody tr th {\n",
       "        vertical-align: top;\n",
       "    }\n",
       "\n",
       "    .dataframe thead th {\n",
       "        text-align: right;\n",
       "    }\n",
       "</style>\n",
       "<table border=\"1\" class=\"dataframe\">\n",
       "  <thead>\n",
       "    <tr style=\"text-align: right;\">\n",
       "      <th></th>\n",
       "      <th>Reviews</th>\n",
       "      <th>Ratings</th>\n",
       "    </tr>\n",
       "  </thead>\n",
       "  <tbody>\n",
       "    <tr>\n",
       "      <th>0</th>\n",
       "      <td>Classy product</td>\n",
       "      <td>5</td>\n",
       "    </tr>\n",
       "    <tr>\n",
       "      <th>1</th>\n",
       "      <td>Must buy!</td>\n",
       "      <td>5</td>\n",
       "    </tr>\n",
       "    <tr>\n",
       "      <th>2</th>\n",
       "      <td>Classy product</td>\n",
       "      <td>5</td>\n",
       "    </tr>\n",
       "    <tr>\n",
       "      <th>3</th>\n",
       "      <td>Excellent</td>\n",
       "      <td>5</td>\n",
       "    </tr>\n",
       "    <tr>\n",
       "      <th>4</th>\n",
       "      <td>Wonderful</td>\n",
       "      <td>4</td>\n",
       "    </tr>\n",
       "    <tr>\n",
       "      <th>...</th>\n",
       "      <td>...</td>\n",
       "      <td>...</td>\n",
       "    </tr>\n",
       "    <tr>\n",
       "      <th>16506</th>\n",
       "      <td>Wonderful</td>\n",
       "      <td>5</td>\n",
       "    </tr>\n",
       "    <tr>\n",
       "      <th>16507</th>\n",
       "      <td>Really Nice</td>\n",
       "      <td>4</td>\n",
       "    </tr>\n",
       "    <tr>\n",
       "      <th>16508</th>\n",
       "      <td>Excellent</td>\n",
       "      <td>5</td>\n",
       "    </tr>\n",
       "    <tr>\n",
       "      <th>16509</th>\n",
       "      <td>Terrible product</td>\n",
       "      <td>1</td>\n",
       "    </tr>\n",
       "    <tr>\n",
       "      <th>16510</th>\n",
       "      <td>Great product</td>\n",
       "      <td>5</td>\n",
       "    </tr>\n",
       "  </tbody>\n",
       "</table>\n",
       "<p>16511 rows × 2 columns</p>\n",
       "</div>"
      ],
      "text/plain": [
       "                Reviews Ratings\n",
       "0        Classy product       5\n",
       "1             Must buy!       5\n",
       "2        Classy product       5\n",
       "3             Excellent       5\n",
       "4             Wonderful       4\n",
       "...                 ...     ...\n",
       "16506         Wonderful       5\n",
       "16507       Really Nice       4\n",
       "16508         Excellent       5\n",
       "16509  Terrible product       1\n",
       "16510     Great product       5\n",
       "\n",
       "[16511 rows x 2 columns]"
      ]
     },
     "execution_count": 66,
     "metadata": {},
     "output_type": "execute_result"
    }
   ],
   "source": [
    "import pandas as pd\n",
    "\n",
    "prod_df = pd.DataFrame({'Reviews':review,'Ratings':rating})\n",
    "prod_df"
   ]
  },
  {
   "cell_type": "markdown",
   "id": "4b8dc666",
   "metadata": {},
   "source": [
    "SCRAPPING REVIEWS FOR \"Headphones\""
   ]
  },
  {
   "cell_type": "code",
   "execution_count": 67,
   "id": "053998d9",
   "metadata": {},
   "outputs": [],
   "source": [
    "driver = webdriver.Chrome(r\"C:\\Web Driver\\chromedriver.exe\")"
   ]
  },
  {
   "cell_type": "code",
   "execution_count": 68,
   "id": "d1a8322a",
   "metadata": {},
   "outputs": [],
   "source": [
    "driver.get('http://www.flipkart.com/')"
   ]
  },
  {
   "cell_type": "code",
   "execution_count": 69,
   "id": "3ada29c4",
   "metadata": {},
   "outputs": [],
   "source": [
    "# Closing the login Pop-up by clicking on the close button automatically\n",
    "\n",
    "close_button = driver.find_element_by_xpath(\"/html/body/div[2]/div/div/button\")\n",
    "close_button.click()"
   ]
  },
  {
   "cell_type": "code",
   "execution_count": 70,
   "id": "63861289",
   "metadata": {},
   "outputs": [],
   "source": [
    "product_urls = []"
   ]
  },
  {
   "cell_type": "code",
   "execution_count": 71,
   "id": "d4491eb3",
   "metadata": {},
   "outputs": [],
   "source": [
    "def get_reviews():\n",
    "\n",
    "    user_inp = input('Enter the product you want to search :')     # Entering user input for the product to be searched\n",
    "\n",
    "    product = driver.find_element_by_class_name(\"_3704LK\")                \n",
    "    product.send_keys(user_inp)\n",
    "\n",
    "    search = driver.find_element_by_xpath(\"/html/body/div[1]/div/div[1]/div[1]/div[2]/div[2]/form/div/button\") # Clicking on Search button\n",
    "    search.click()\n",
    "    \n",
    "    time.sleep(5)\n",
    "\n",
    "    for page in range(0,3):     #for loop for scrapping product from 3 pages\n",
    "        url=driver.find_elements_by_xpath(\"//a[@class='s1Q9rs']\")        #scraping urls of different pages\n",
    "        for i in url:\n",
    "            product_urls.append(i.get_attribute(\"href\"))                        #appending the urls in product_urls list\n",
    "        next_button = driver.find_elements_by_xpath(\"//a[@class='_1LKTO3']\")\n",
    "        try:\n",
    "            driver.get(next_button[1].get_attribute('href'))          #Clicking on next button\n",
    "        except:\n",
    "            driver.get(next_button[0].get_attribute('href'))  \n",
    "        time.sleep(3)\n",
    "\n",
    "    for url2 in product_urls:         # Opening product urls one by one\n",
    "        driver.get(url2)\n",
    "        time.sleep(3)\n",
    "\n",
    "        try:\n",
    "            full=driver.find_element_by_xpath(\"//div[@class='_3UAT2v _16PBlm']\")    # Opening full review page \n",
    "            full.click()\n",
    "            time.sleep(2)\n",
    "        \n",
    "            ratings_urls = []\n",
    "        \n",
    "            url3=driver.find_elements_by_class_name(\"ge-49M\")        #scraping urls of all pages in the full review page\n",
    "            for i in url3:\n",
    "                ratings_urls.append(i.get_attribute(\"href\"))         #appending the urls in ratings_urls list\n",
    "        \n",
    "            for url4 in ratings_urls:           # Opening review pages of a product one by one\n",
    "                driver.get(url4)\n",
    "    \n",
    "                review_tags = driver.find_elements_by_xpath(\"//p[@class='_2-N8zT']\")\n",
    "                for i in review_tags:\n",
    "                    review.append(i.text)\n",
    "    \n",
    "                rating_tags = driver.find_elements_by_xpath(\"//div[@class='col _2wzgFH K0kLPL']\")\n",
    "                for i in rating_tags:\n",
    "                    rating.append(i.text.split()[0])\n",
    "        \n",
    "        except NoSuchElementException:\n",
    "            review_tags = driver.find_elements_by_xpath(\"//p[@class='_2-N8zT']\")\n",
    "            for i in review_tags:\n",
    "                review.append(i.text)\n",
    "    \n",
    "            rating_tags = driver.find_elements_by_xpath(\"//div[@class='col _2wzgFH']\")\n",
    "            for i in rating_tags:\n",
    "                rating.append(i.text.split()[0])"
   ]
  },
  {
   "cell_type": "code",
   "execution_count": 72,
   "id": "0915cfb2",
   "metadata": {},
   "outputs": [
    {
     "name": "stdout",
     "output_type": "stream",
     "text": [
      "Enter the product you want to search :Headphones\n"
     ]
    }
   ],
   "source": [
    "get_reviews()"
   ]
  },
  {
   "cell_type": "code",
   "execution_count": 73,
   "id": "fe685714",
   "metadata": {},
   "outputs": [
    {
     "data": {
      "text/html": [
       "<div>\n",
       "<style scoped>\n",
       "    .dataframe tbody tr th:only-of-type {\n",
       "        vertical-align: middle;\n",
       "    }\n",
       "\n",
       "    .dataframe tbody tr th {\n",
       "        vertical-align: top;\n",
       "    }\n",
       "\n",
       "    .dataframe thead th {\n",
       "        text-align: right;\n",
       "    }\n",
       "</style>\n",
       "<table border=\"1\" class=\"dataframe\">\n",
       "  <thead>\n",
       "    <tr style=\"text-align: right;\">\n",
       "      <th></th>\n",
       "      <th>Reviews</th>\n",
       "      <th>Ratings</th>\n",
       "    </tr>\n",
       "  </thead>\n",
       "  <tbody>\n",
       "    <tr>\n",
       "      <th>0</th>\n",
       "      <td>Classy product</td>\n",
       "      <td>5</td>\n",
       "    </tr>\n",
       "    <tr>\n",
       "      <th>1</th>\n",
       "      <td>Must buy!</td>\n",
       "      <td>5</td>\n",
       "    </tr>\n",
       "    <tr>\n",
       "      <th>2</th>\n",
       "      <td>Classy product</td>\n",
       "      <td>5</td>\n",
       "    </tr>\n",
       "    <tr>\n",
       "      <th>3</th>\n",
       "      <td>Excellent</td>\n",
       "      <td>5</td>\n",
       "    </tr>\n",
       "    <tr>\n",
       "      <th>4</th>\n",
       "      <td>Wonderful</td>\n",
       "      <td>4</td>\n",
       "    </tr>\n",
       "    <tr>\n",
       "      <th>...</th>\n",
       "      <td>...</td>\n",
       "      <td>...</td>\n",
       "    </tr>\n",
       "    <tr>\n",
       "      <th>26788</th>\n",
       "      <td>Not recommended at all</td>\n",
       "      <td>1</td>\n",
       "    </tr>\n",
       "    <tr>\n",
       "      <th>26789</th>\n",
       "      <td>Nice product</td>\n",
       "      <td>4</td>\n",
       "    </tr>\n",
       "    <tr>\n",
       "      <th>26790</th>\n",
       "      <td>Absolute rubbish!</td>\n",
       "      <td>1</td>\n",
       "    </tr>\n",
       "    <tr>\n",
       "      <th>26791</th>\n",
       "      <td>Worst experience ever!</td>\n",
       "      <td>1</td>\n",
       "    </tr>\n",
       "    <tr>\n",
       "      <th>26792</th>\n",
       "      <td>Decent product</td>\n",
       "      <td>3</td>\n",
       "    </tr>\n",
       "  </tbody>\n",
       "</table>\n",
       "<p>26793 rows × 2 columns</p>\n",
       "</div>"
      ],
      "text/plain": [
       "                      Reviews Ratings\n",
       "0              Classy product       5\n",
       "1                   Must buy!       5\n",
       "2              Classy product       5\n",
       "3                   Excellent       5\n",
       "4                   Wonderful       4\n",
       "...                       ...     ...\n",
       "26788  Not recommended at all       1\n",
       "26789            Nice product       4\n",
       "26790       Absolute rubbish!       1\n",
       "26791  Worst experience ever!       1\n",
       "26792          Decent product       3\n",
       "\n",
       "[26793 rows x 2 columns]"
      ]
     },
     "execution_count": 73,
     "metadata": {},
     "output_type": "execute_result"
    }
   ],
   "source": [
    "import pandas as pd\n",
    "\n",
    "prod_df = pd.DataFrame({'Reviews':review,'Ratings':rating})\n",
    "prod_df"
   ]
  },
  {
   "cell_type": "markdown",
   "id": "f61aa181",
   "metadata": {},
   "source": [
    "Exporting the DataFrame into Excel File"
   ]
  },
  {
   "cell_type": "code",
   "execution_count": 74,
   "id": "94e110c8",
   "metadata": {},
   "outputs": [],
   "source": [
    "prod_df.to_excel(\"products_review.xlsx\")"
   ]
  },
  {
   "cell_type": "code",
   "execution_count": null,
   "id": "6b395879",
   "metadata": {},
   "outputs": [],
   "source": []
  },
  {
   "cell_type": "code",
   "execution_count": null,
   "id": "53d55575",
   "metadata": {},
   "outputs": [],
   "source": []
  },
  {
   "cell_type": "code",
   "execution_count": null,
   "id": "be31981e",
   "metadata": {},
   "outputs": [],
   "source": []
  }
 ],
 "metadata": {
  "kernelspec": {
   "display_name": "Python 3 (ipykernel)",
   "language": "python",
   "name": "python3"
  },
  "language_info": {
   "codemirror_mode": {
    "name": "ipython",
    "version": 3
   },
   "file_extension": ".py",
   "mimetype": "text/x-python",
   "name": "python",
   "nbconvert_exporter": "python",
   "pygments_lexer": "ipython3",
   "version": "3.9.7"
  }
 },
 "nbformat": 4,
 "nbformat_minor": 5
}
