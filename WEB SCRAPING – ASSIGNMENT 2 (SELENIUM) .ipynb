{
 "cells": [
  {
   "cell_type": "markdown",
   "id": "48df69c8",
   "metadata": {},
   "source": [
    "Q1: Write a python program to scrape data for “Data Analyst” Job position in “Bangalore” location. You\n",
    "have to scrape the job-title, job-location, company_name, experience_required. You have to scrape first 10\n",
    "jobs data."
   ]
  },
  {
   "cell_type": "code",
   "execution_count": 357,
   "id": "2ca40e44",
   "metadata": {},
   "outputs": [],
   "source": [
    "# Importing the libraries\n",
    "\n",
    "import selenium                    # Library used to work with selenium\n",
    "import pandas as pd              # to create DataFrame\n",
    "from selenium import webdriver    # Importing web driver module from selenium to open up automated crome(web) window\n",
    "import warnings                       # To ignore any sort of warning\n",
    "warnings.filterwarnings('ignore')\n",
    "import time                           # Used to stop search engine for few seconds"
   ]
  },
  {
   "cell_type": "code",
   "execution_count": 358,
   "id": "11965dc4",
   "metadata": {},
   "outputs": [],
   "source": [
    "# Connecting to the Web Driver\n",
    "\n",
    "driver = webdriver.Chrome(r\"C:\\Web Driver\\chromedriver.exe\")"
   ]
  },
  {
   "cell_type": "code",
   "execution_count": 359,
   "id": "0151d117",
   "metadata": {},
   "outputs": [],
   "source": [
    "# Open Naukri.com in the opened Chrome automated window\n",
    "\n",
    "driver.get('http://www.naukri.com/')"
   ]
  },
  {
   "cell_type": "code",
   "execution_count": 360,
   "id": "16d28383",
   "metadata": {},
   "outputs": [],
   "source": [
    "# Input the designation automatically\n",
    "\n",
    "designation = driver.find_element_by_class_name(\"suggestor-input\")      # Type the class name from html code \n",
    "designation.send_keys(\"Data Analyst\")"
   ]
  },
  {
   "cell_type": "code",
   "execution_count": 361,
   "id": "1d4225b5",
   "metadata": {},
   "outputs": [],
   "source": [
    "# Using Absolute Xpath  to type the location sutomatically\n",
    "\n",
    "location = driver.find_element_by_xpath(\"/html/body/div/div[2]/div[3]/div/div/div[3]/div/div/div/input\")\n",
    "location.send_keys(\"Bangalore\")"
   ]
  },
  {
   "cell_type": "code",
   "execution_count": 362,
   "id": "16c3c159",
   "metadata": {},
   "outputs": [],
   "source": [
    "# Using Absolute Xpath to click on the search button\n",
    "\n",
    "button = driver.find_element_by_xpath(\"/html/body/div/div[2]/div[3]/div/div/div[6]\")\n",
    "button.click() "
   ]
  },
  {
   "cell_type": "markdown",
   "id": "456538af",
   "metadata": {},
   "source": [
    "Scraping the DATA from the Results"
   ]
  },
  {
   "cell_type": "code",
   "execution_count": 363,
   "id": "27b6f9df",
   "metadata": {},
   "outputs": [],
   "source": [
    "# Creating 4 empty list to store the data\n",
    "\n",
    "job_titles = []\n",
    "company_names = []\n",
    "location_list = []\n",
    "experience = []"
   ]
  },
  {
   "cell_type": "code",
   "execution_count": 364,
   "id": "ea1a29e5",
   "metadata": {},
   "outputs": [
    {
     "data": {
      "text/plain": [
       "[<selenium.webdriver.remote.webelement.WebElement (session=\"caefd446ab47f4091ece411f929c362f\", element=\"7de78a6a-0915-4ab9-a9d2-99b2da191945\")>,\n",
       " <selenium.webdriver.remote.webelement.WebElement (session=\"caefd446ab47f4091ece411f929c362f\", element=\"99874550-45ef-4eca-aab2-ff56366207ea\")>,\n",
       " <selenium.webdriver.remote.webelement.WebElement (session=\"caefd446ab47f4091ece411f929c362f\", element=\"237a8e33-6b71-40ba-9094-b4ebd43acda6\")>,\n",
       " <selenium.webdriver.remote.webelement.WebElement (session=\"caefd446ab47f4091ece411f929c362f\", element=\"d9311ae4-5951-4bc4-8bdf-06f3100a28eb\")>]"
      ]
     },
     "execution_count": 364,
     "metadata": {},
     "output_type": "execute_result"
    }
   ],
   "source": [
    "# To scrap the job titles we will use the Relative x path\n",
    "\n",
    "titles_tags = driver.find_elements_by_xpath(\"//a[@class='title fw500 ellipsis']\")    \n",
    "titles_tags[0:4]     # To print only top 4 results"
   ]
  },
  {
   "cell_type": "code",
   "execution_count": 365,
   "id": "44e8c3fa",
   "metadata": {},
   "outputs": [
    {
     "data": {
      "text/plain": [
       "['Data Analyst / Business Analyst',\n",
       " 'Data Analyst / Business Analyst',\n",
       " 'data analyst/ data analytics / Business analyst- SQL/Python/SAS',\n",
       " 'Business analyst + data Analysis',\n",
       " 'Data Analyst',\n",
       " 'Associate Professional Data Analyst',\n",
       " 'Business and Data Analyst',\n",
       " 'Senior Data Analyst',\n",
       " 'Senior Data Analyst',\n",
       " 'Data Analyst']"
      ]
     },
     "execution_count": 365,
     "metadata": {},
     "output_type": "execute_result"
    }
   ],
   "source": [
    "for i in titles_tags[0:10]:\n",
    "    title=i.text\n",
    "    job_titles.append(title)\n",
    "job_titles"
   ]
  },
  {
   "cell_type": "code",
   "execution_count": 366,
   "id": "00ed8e75",
   "metadata": {},
   "outputs": [
    {
     "data": {
      "text/plain": [
       "[<selenium.webdriver.remote.webelement.WebElement (session=\"caefd446ab47f4091ece411f929c362f\", element=\"c3940da2-02b1-4ab9-8e03-ca5a49165a18\")>,\n",
       " <selenium.webdriver.remote.webelement.WebElement (session=\"caefd446ab47f4091ece411f929c362f\", element=\"4922dc67-5bff-4d33-9f3e-ba2c8b0d096f\")>,\n",
       " <selenium.webdriver.remote.webelement.WebElement (session=\"caefd446ab47f4091ece411f929c362f\", element=\"73d218f5-df06-47eb-a22a-79deacef08f6\")>,\n",
       " <selenium.webdriver.remote.webelement.WebElement (session=\"caefd446ab47f4091ece411f929c362f\", element=\"54465461-938f-4573-a74f-1a04dd97b10b\")>]"
      ]
     },
     "execution_count": 366,
     "metadata": {},
     "output_type": "execute_result"
    }
   ],
   "source": [
    "# Scraping company names\n",
    "\n",
    "company_tags = driver.find_elements_by_xpath(\"//a[@class='subTitle ellipsis fleft']\")   # Type elements for more than 1 data\n",
    "company_tags[0:4]"
   ]
  },
  {
   "cell_type": "code",
   "execution_count": 367,
   "id": "dc78c989",
   "metadata": {},
   "outputs": [
    {
     "data": {
      "text/plain": [
       "['METRO Cash & Carry',\n",
       " 'METRO Cash & Carry',\n",
       " 'Leading US MNC into Analytics',\n",
       " 'Anlage Infotech (I) Pvt. Ltd.',\n",
       " 'upGrad',\n",
       " 'DXC Technology',\n",
       " 'CAREERDOST ENTERPRISE',\n",
       " 'Flipkart',\n",
       " 'Thomson Reuters',\n",
       " 'referral']"
      ]
     },
     "execution_count": 367,
     "metadata": {},
     "output_type": "execute_result"
    }
   ],
   "source": [
    "for i in company_tags[0:10]:\n",
    "    company_names.append(i.text)\n",
    "company_names"
   ]
  },
  {
   "cell_type": "code",
   "execution_count": 368,
   "id": "1bb9c2c1",
   "metadata": {},
   "outputs": [
    {
     "data": {
      "text/plain": [
       "[<selenium.webdriver.remote.webelement.WebElement (session=\"caefd446ab47f4091ece411f929c362f\", element=\"90b55f76-46a1-4d44-9579-2605d066250a\")>,\n",
       " <selenium.webdriver.remote.webelement.WebElement (session=\"caefd446ab47f4091ece411f929c362f\", element=\"366df77e-1451-4b09-8d55-3d77537c696b\")>,\n",
       " <selenium.webdriver.remote.webelement.WebElement (session=\"caefd446ab47f4091ece411f929c362f\", element=\"2defbcf8-490b-400b-8932-5335b3cdc33b\")>,\n",
       " <selenium.webdriver.remote.webelement.WebElement (session=\"caefd446ab47f4091ece411f929c362f\", element=\"7f7ee98a-e0ba-48e8-9627-2b1c6f90392a\")>]"
      ]
     },
     "execution_count": 368,
     "metadata": {},
     "output_type": "execute_result"
    }
   ],
   "source": [
    "# Scraping Experience\n",
    "\n",
    "experience_tags = driver.find_elements_by_xpath(\"//li[@class='fleft grey-text br2 placeHolderLi experience']/span\")\n",
    "experience_tags[0:4]"
   ]
  },
  {
   "cell_type": "code",
   "execution_count": 369,
   "id": "e47d8911",
   "metadata": {},
   "outputs": [
    {
     "data": {
      "text/plain": [
       "['3-8 Yrs',\n",
       " '3-8 Yrs',\n",
       " '2-7 Yrs',\n",
       " '5-10 Yrs',\n",
       " '1-3 Yrs',\n",
       " '3-6 Yrs',\n",
       " '0-5 Yrs',\n",
       " '3-7 Yrs',\n",
       " '2-4 Yrs',\n",
       " '2-5 Yrs']"
      ]
     },
     "execution_count": 369,
     "metadata": {},
     "output_type": "execute_result"
    }
   ],
   "source": [
    "for i in experience_tags[0:10]:\n",
    "    experience.append(i.text)\n",
    "experience"
   ]
  },
  {
   "cell_type": "code",
   "execution_count": 370,
   "id": "3191dfeb",
   "metadata": {},
   "outputs": [
    {
     "data": {
      "text/plain": [
       "[<selenium.webdriver.remote.webelement.WebElement (session=\"caefd446ab47f4091ece411f929c362f\", element=\"c8c90e77-4ea9-4d9a-8f55-46588527ae50\")>,\n",
       " <selenium.webdriver.remote.webelement.WebElement (session=\"caefd446ab47f4091ece411f929c362f\", element=\"45b6dc0e-5751-4a65-b9d6-14be895408a8\")>,\n",
       " <selenium.webdriver.remote.webelement.WebElement (session=\"caefd446ab47f4091ece411f929c362f\", element=\"48e16639-8e9a-4146-8e04-84a7aaadbe20\")>,\n",
       " <selenium.webdriver.remote.webelement.WebElement (session=\"caefd446ab47f4091ece411f929c362f\", element=\"bbf59774-dd46-4864-8193-fb896373ad09\")>]"
      ]
     },
     "execution_count": 370,
     "metadata": {},
     "output_type": "execute_result"
    }
   ],
   "source": [
    "# Scraping Location\n",
    "\n",
    "location_tags = driver.find_elements_by_xpath(\"//li[@class='fleft grey-text br2 placeHolderLi location']/span[1]\")\n",
    "location_tags[0:4]"
   ]
  },
  {
   "cell_type": "code",
   "execution_count": 371,
   "id": "3fc965a9",
   "metadata": {},
   "outputs": [
    {
     "data": {
      "text/plain": [
       "['Bangalore/Bengaluru',\n",
       " 'Bangalore/Bengaluru',\n",
       " 'Gurgaon/Gurugram, Bangalore/Bengaluru, Delhi / NCR',\n",
       " 'Hyderabad/Secunderabad, Bangalore/Bengaluru',\n",
       " 'Bangalore/Bengaluru',\n",
       " 'Bangalore/Bengaluru',\n",
       " 'Bangalore/Bengaluru',\n",
       " 'Bangalore/Bengaluru',\n",
       " 'Bangalore/Bengaluru',\n",
       " 'Bangalore/Bengaluru']"
      ]
     },
     "execution_count": 371,
     "metadata": {},
     "output_type": "execute_result"
    }
   ],
   "source": [
    "for i in location_tags[0:10]:\n",
    "    location_list.append(i.text)\n",
    "location_list"
   ]
  },
  {
   "cell_type": "code",
   "execution_count": 372,
   "id": "fa3bfb06",
   "metadata": {},
   "outputs": [
    {
     "name": "stdout",
     "output_type": "stream",
     "text": [
      "10 10 10 10\n"
     ]
    }
   ],
   "source": [
    "print(len(job_titles),len(company_names),len(experience),len(location_list))"
   ]
  },
  {
   "cell_type": "code",
   "execution_count": 373,
   "id": "64304737",
   "metadata": {},
   "outputs": [
    {
     "data": {
      "text/html": [
       "<div>\n",
       "<style scoped>\n",
       "    .dataframe tbody tr th:only-of-type {\n",
       "        vertical-align: middle;\n",
       "    }\n",
       "\n",
       "    .dataframe tbody tr th {\n",
       "        vertical-align: top;\n",
       "    }\n",
       "\n",
       "    .dataframe thead th {\n",
       "        text-align: right;\n",
       "    }\n",
       "</style>\n",
       "<table border=\"1\" class=\"dataframe\">\n",
       "  <thead>\n",
       "    <tr style=\"text-align: right;\">\n",
       "      <th></th>\n",
       "      <th>TITLE</th>\n",
       "      <th>COMPANY</th>\n",
       "      <th>EXPERIENCE</th>\n",
       "      <th>LOCATION</th>\n",
       "    </tr>\n",
       "  </thead>\n",
       "  <tbody>\n",
       "    <tr>\n",
       "      <th>0</th>\n",
       "      <td>Data Analyst / Business Analyst</td>\n",
       "      <td>METRO Cash &amp; Carry</td>\n",
       "      <td>3-8 Yrs</td>\n",
       "      <td>Bangalore/Bengaluru</td>\n",
       "    </tr>\n",
       "    <tr>\n",
       "      <th>1</th>\n",
       "      <td>Data Analyst / Business Analyst</td>\n",
       "      <td>METRO Cash &amp; Carry</td>\n",
       "      <td>3-8 Yrs</td>\n",
       "      <td>Bangalore/Bengaluru</td>\n",
       "    </tr>\n",
       "    <tr>\n",
       "      <th>2</th>\n",
       "      <td>data analyst/ data analytics / Business analys...</td>\n",
       "      <td>Leading US MNC into Analytics</td>\n",
       "      <td>2-7 Yrs</td>\n",
       "      <td>Gurgaon/Gurugram, Bangalore/Bengaluru, Delhi /...</td>\n",
       "    </tr>\n",
       "    <tr>\n",
       "      <th>3</th>\n",
       "      <td>Business analyst + data Analysis</td>\n",
       "      <td>Anlage Infotech (I) Pvt. Ltd.</td>\n",
       "      <td>5-10 Yrs</td>\n",
       "      <td>Hyderabad/Secunderabad, Bangalore/Bengaluru</td>\n",
       "    </tr>\n",
       "    <tr>\n",
       "      <th>4</th>\n",
       "      <td>Data Analyst</td>\n",
       "      <td>upGrad</td>\n",
       "      <td>1-3 Yrs</td>\n",
       "      <td>Bangalore/Bengaluru</td>\n",
       "    </tr>\n",
       "    <tr>\n",
       "      <th>5</th>\n",
       "      <td>Associate Professional Data Analyst</td>\n",
       "      <td>DXC Technology</td>\n",
       "      <td>3-6 Yrs</td>\n",
       "      <td>Bangalore/Bengaluru</td>\n",
       "    </tr>\n",
       "    <tr>\n",
       "      <th>6</th>\n",
       "      <td>Business and Data Analyst</td>\n",
       "      <td>CAREERDOST ENTERPRISE</td>\n",
       "      <td>0-5 Yrs</td>\n",
       "      <td>Bangalore/Bengaluru</td>\n",
       "    </tr>\n",
       "    <tr>\n",
       "      <th>7</th>\n",
       "      <td>Senior Data Analyst</td>\n",
       "      <td>Flipkart</td>\n",
       "      <td>3-7 Yrs</td>\n",
       "      <td>Bangalore/Bengaluru</td>\n",
       "    </tr>\n",
       "    <tr>\n",
       "      <th>8</th>\n",
       "      <td>Senior Data Analyst</td>\n",
       "      <td>Thomson Reuters</td>\n",
       "      <td>2-4 Yrs</td>\n",
       "      <td>Bangalore/Bengaluru</td>\n",
       "    </tr>\n",
       "    <tr>\n",
       "      <th>9</th>\n",
       "      <td>Data Analyst</td>\n",
       "      <td>referral</td>\n",
       "      <td>2-5 Yrs</td>\n",
       "      <td>Bangalore/Bengaluru</td>\n",
       "    </tr>\n",
       "  </tbody>\n",
       "</table>\n",
       "</div>"
      ],
      "text/plain": [
       "                                               TITLE  \\\n",
       "0                    Data Analyst / Business Analyst   \n",
       "1                    Data Analyst / Business Analyst   \n",
       "2  data analyst/ data analytics / Business analys...   \n",
       "3                   Business analyst + data Analysis   \n",
       "4                                       Data Analyst   \n",
       "5                Associate Professional Data Analyst   \n",
       "6                          Business and Data Analyst   \n",
       "7                                Senior Data Analyst   \n",
       "8                                Senior Data Analyst   \n",
       "9                                       Data Analyst   \n",
       "\n",
       "                         COMPANY EXPERIENCE  \\\n",
       "0             METRO Cash & Carry    3-8 Yrs   \n",
       "1             METRO Cash & Carry    3-8 Yrs   \n",
       "2  Leading US MNC into Analytics    2-7 Yrs   \n",
       "3  Anlage Infotech (I) Pvt. Ltd.   5-10 Yrs   \n",
       "4                         upGrad    1-3 Yrs   \n",
       "5                 DXC Technology    3-6 Yrs   \n",
       "6          CAREERDOST ENTERPRISE    0-5 Yrs   \n",
       "7                       Flipkart    3-7 Yrs   \n",
       "8                Thomson Reuters    2-4 Yrs   \n",
       "9                       referral    2-5 Yrs   \n",
       "\n",
       "                                            LOCATION  \n",
       "0                                Bangalore/Bengaluru  \n",
       "1                                Bangalore/Bengaluru  \n",
       "2  Gurgaon/Gurugram, Bangalore/Bengaluru, Delhi /...  \n",
       "3        Hyderabad/Secunderabad, Bangalore/Bengaluru  \n",
       "4                                Bangalore/Bengaluru  \n",
       "5                                Bangalore/Bengaluru  \n",
       "6                                Bangalore/Bengaluru  \n",
       "7                                Bangalore/Bengaluru  \n",
       "8                                Bangalore/Bengaluru  \n",
       "9                                Bangalore/Bengaluru  "
      ]
     },
     "execution_count": 373,
     "metadata": {},
     "output_type": "execute_result"
    }
   ],
   "source": [
    "# Creating DataFrame\n",
    "\n",
    "jobs = pd.DataFrame({})\n",
    "jobs['TITLE']=job_titles\n",
    "jobs['COMPANY']=company_names\n",
    "jobs['EXPERIENCE']=experience\n",
    "jobs['LOCATION']=location_list\n",
    "\n",
    "jobs"
   ]
  },
  {
   "cell_type": "markdown",
   "id": "1d1c89d6",
   "metadata": {},
   "source": [
    "Q2: Write a python program to scrape data for “Data Scientist” Job position in “Bangalore” location. You\n",
    "have to scrape the job-title, job-location, company_name. You have to scrape first 10 jobs data.\n",
    "This task will be done in following steps:"
   ]
  },
  {
   "cell_type": "code",
   "execution_count": 374,
   "id": "7401662f",
   "metadata": {},
   "outputs": [],
   "source": [
    "import selenium                   \n",
    "import pandas as pd              \n",
    "from selenium import webdriver   \n",
    "import warnings                      \n",
    "warnings.filterwarnings('ignore')\n",
    "import time                           "
   ]
  },
  {
   "cell_type": "code",
   "execution_count": 375,
   "id": "4413d15a",
   "metadata": {},
   "outputs": [],
   "source": [
    "driver = webdriver.Chrome(r\"C:\\Web Driver\\chromedriver.exe\")"
   ]
  },
  {
   "cell_type": "code",
   "execution_count": 376,
   "id": "b6065683",
   "metadata": {},
   "outputs": [],
   "source": [
    "driver.get('http://www.naukri.com/')"
   ]
  },
  {
   "cell_type": "code",
   "execution_count": 377,
   "id": "7dc5d0b9",
   "metadata": {},
   "outputs": [],
   "source": [
    "designation = driver.find_element_by_class_name(\"suggestor-input\")      # Type the class name from html code \n",
    "designation.send_keys(\"Data Scientist\")          "
   ]
  },
  {
   "cell_type": "code",
   "execution_count": 378,
   "id": "77b4b134",
   "metadata": {},
   "outputs": [],
   "source": [
    "location = driver.find_element_by_xpath(\"/html/body/div/div[2]/div[3]/div/div/div[3]/div/div/div/input\")\n",
    "location.send_keys(\"Bangalore\")"
   ]
  },
  {
   "cell_type": "code",
   "execution_count": 379,
   "id": "f14f0f02",
   "metadata": {},
   "outputs": [],
   "source": [
    "button = driver.find_element_by_xpath(\"/html/body/div/div[2]/div[3]/div/div/div[6]\")\n",
    "button.click()"
   ]
  },
  {
   "cell_type": "markdown",
   "id": "4b1a3238",
   "metadata": {},
   "source": [
    "Scraping Data"
   ]
  },
  {
   "cell_type": "code",
   "execution_count": 380,
   "id": "1d2c1058",
   "metadata": {},
   "outputs": [],
   "source": [
    "job_titles = []\n",
    "company_names = []\n",
    "location_list = []"
   ]
  },
  {
   "cell_type": "code",
   "execution_count": 381,
   "id": "2ef77f6b",
   "metadata": {},
   "outputs": [
    {
     "data": {
      "text/plain": [
       "[<selenium.webdriver.remote.webelement.WebElement (session=\"67fe6c6e85d4b49804b194285098ea50\", element=\"d8dc16d5-e31c-45b1-849a-750c7efae09c\")>,\n",
       " <selenium.webdriver.remote.webelement.WebElement (session=\"67fe6c6e85d4b49804b194285098ea50\", element=\"87e7e470-1956-47ce-bc03-70491d4f1821\")>,\n",
       " <selenium.webdriver.remote.webelement.WebElement (session=\"67fe6c6e85d4b49804b194285098ea50\", element=\"7cfefc3b-5416-4cfc-b27a-dbf2d5a30c3b\")>,\n",
       " <selenium.webdriver.remote.webelement.WebElement (session=\"67fe6c6e85d4b49804b194285098ea50\", element=\"7bef6967-0c79-45be-9f63-50a5cde03cde\")>]"
      ]
     },
     "execution_count": 381,
     "metadata": {},
     "output_type": "execute_result"
    }
   ],
   "source": [
    "#Scraping Job Titles\n",
    "\n",
    "titles_tags = driver.find_elements_by_xpath(\"//a[@class='title fw500 ellipsis']\")     \n",
    "titles_tags[0:4] "
   ]
  },
  {
   "cell_type": "code",
   "execution_count": 382,
   "id": "422a74dc",
   "metadata": {},
   "outputs": [
    {
     "data": {
      "text/plain": [
       "['Senior Data Scientist',\n",
       " 'Sr. Analyst - Applied Data Scientist',\n",
       " 'Applied Data Scientist / ML Senior Engineer (Python / SQL)',\n",
       " 'Data Scientist',\n",
       " 'Expert Data Scientist',\n",
       " 'Principal Data Scientist',\n",
       " 'Analyst - Applied Data Scientist',\n",
       " 'Research Data Scientist',\n",
       " 'Lead Python Data Scientist',\n",
       " 'Senior Data Scientist Grade12']"
      ]
     },
     "execution_count": 382,
     "metadata": {},
     "output_type": "execute_result"
    }
   ],
   "source": [
    "for i in titles_tags[0:10]:\n",
    "    title=i.text\n",
    "    job_titles.append(title)\n",
    "job_titles"
   ]
  },
  {
   "cell_type": "code",
   "execution_count": 383,
   "id": "42392de6",
   "metadata": {},
   "outputs": [
    {
     "data": {
      "text/plain": [
       "[<selenium.webdriver.remote.webelement.WebElement (session=\"67fe6c6e85d4b49804b194285098ea50\", element=\"bd2f3e5f-30e0-4c5d-8498-c1fbf5078ded\")>,\n",
       " <selenium.webdriver.remote.webelement.WebElement (session=\"67fe6c6e85d4b49804b194285098ea50\", element=\"34d2125b-a6ad-4dee-8e74-819cb5d7b325\")>,\n",
       " <selenium.webdriver.remote.webelement.WebElement (session=\"67fe6c6e85d4b49804b194285098ea50\", element=\"174d83a6-4c16-4f41-ab3d-1eaa098f2810\")>,\n",
       " <selenium.webdriver.remote.webelement.WebElement (session=\"67fe6c6e85d4b49804b194285098ea50\", element=\"a3a7c745-ad1b-4c28-80e1-ff8efbacc355\")>]"
      ]
     },
     "execution_count": 383,
     "metadata": {},
     "output_type": "execute_result"
    }
   ],
   "source": [
    "# Scraping company names\n",
    "\n",
    "company_tags = driver.find_elements_by_xpath(\"//a[@class='subTitle ellipsis fleft']\")   # Type elements for more than 1 data\n",
    "company_tags[0:4]"
   ]
  },
  {
   "cell_type": "code",
   "execution_count": 384,
   "id": "ea6755b3",
   "metadata": {},
   "outputs": [
    {
     "data": {
      "text/plain": [
       "['UPL',\n",
       " 'Tesco',\n",
       " 'SAP India Pvt.Ltd',\n",
       " 'UPL',\n",
       " 'UPL',\n",
       " 'UPL',\n",
       " 'Tesco',\n",
       " 'Mavenir',\n",
       " 'Micello India Pvt Ltd',\n",
       " 'Flipkart']"
      ]
     },
     "execution_count": 384,
     "metadata": {},
     "output_type": "execute_result"
    }
   ],
   "source": [
    "for i in company_tags[0:10]:\n",
    "    company_names.append(i.text)\n",
    "company_names"
   ]
  },
  {
   "cell_type": "code",
   "execution_count": 385,
   "id": "53446011",
   "metadata": {},
   "outputs": [
    {
     "data": {
      "text/plain": [
       "[<selenium.webdriver.remote.webelement.WebElement (session=\"67fe6c6e85d4b49804b194285098ea50\", element=\"3ad9e860-11d2-4ca6-bfd6-0b37a7428571\")>,\n",
       " <selenium.webdriver.remote.webelement.WebElement (session=\"67fe6c6e85d4b49804b194285098ea50\", element=\"10eff848-b873-4621-9275-ffdfc17e58b7\")>,\n",
       " <selenium.webdriver.remote.webelement.WebElement (session=\"67fe6c6e85d4b49804b194285098ea50\", element=\"f7a7bea5-213d-4fe5-8701-81922af4d2d6\")>,\n",
       " <selenium.webdriver.remote.webelement.WebElement (session=\"67fe6c6e85d4b49804b194285098ea50\", element=\"ba379d29-7644-4fc1-9631-f2d2af7e3bc5\")>]"
      ]
     },
     "execution_count": 385,
     "metadata": {},
     "output_type": "execute_result"
    }
   ],
   "source": [
    "# Scraping Location\n",
    "\n",
    "location_tags = driver.find_elements_by_xpath(\"//li[@class='fleft grey-text br2 placeHolderLi location']/span[1]\")\n",
    "location_tags[0:4]"
   ]
  },
  {
   "cell_type": "code",
   "execution_count": 386,
   "id": "39913b75",
   "metadata": {},
   "outputs": [
    {
     "data": {
      "text/plain": [
       "['Bangalore/Bengaluru, Mumbai (All Areas)',\n",
       " 'Bangalore/Bengaluru',\n",
       " 'Bangalore/Bengaluru',\n",
       " 'Bangalore/Bengaluru, Mumbai (All Areas)',\n",
       " 'Bangalore/Bengaluru, Mumbai (All Areas)',\n",
       " 'Bangalore/Bengaluru, Mumbai (All Areas)',\n",
       " 'Bangalore/Bengaluru',\n",
       " 'Bangalore/Bengaluru',\n",
       " 'Bangalore/Bengaluru',\n",
       " 'Bangalore/Bengaluru']"
      ]
     },
     "execution_count": 386,
     "metadata": {},
     "output_type": "execute_result"
    }
   ],
   "source": [
    "for i in location_tags[0:10]:\n",
    "    location_list.append(i.text)\n",
    "location_list"
   ]
  },
  {
   "cell_type": "code",
   "execution_count": 387,
   "id": "0b0b9a92",
   "metadata": {},
   "outputs": [
    {
     "name": "stdout",
     "output_type": "stream",
     "text": [
      "10 10 10\n"
     ]
    }
   ],
   "source": [
    "print(len(job_titles),len(company_names),len(location_list))"
   ]
  },
  {
   "cell_type": "code",
   "execution_count": 388,
   "id": "4ea254e8",
   "metadata": {},
   "outputs": [
    {
     "data": {
      "text/html": [
       "<div>\n",
       "<style scoped>\n",
       "    .dataframe tbody tr th:only-of-type {\n",
       "        vertical-align: middle;\n",
       "    }\n",
       "\n",
       "    .dataframe tbody tr th {\n",
       "        vertical-align: top;\n",
       "    }\n",
       "\n",
       "    .dataframe thead th {\n",
       "        text-align: right;\n",
       "    }\n",
       "</style>\n",
       "<table border=\"1\" class=\"dataframe\">\n",
       "  <thead>\n",
       "    <tr style=\"text-align: right;\">\n",
       "      <th></th>\n",
       "      <th>TITLE</th>\n",
       "      <th>COMPANY</th>\n",
       "      <th>LOCATION</th>\n",
       "    </tr>\n",
       "  </thead>\n",
       "  <tbody>\n",
       "    <tr>\n",
       "      <th>0</th>\n",
       "      <td>Senior Data Scientist</td>\n",
       "      <td>UPL</td>\n",
       "      <td>Bangalore/Bengaluru, Mumbai (All Areas)</td>\n",
       "    </tr>\n",
       "    <tr>\n",
       "      <th>1</th>\n",
       "      <td>Sr. Analyst - Applied Data Scientist</td>\n",
       "      <td>Tesco</td>\n",
       "      <td>Bangalore/Bengaluru</td>\n",
       "    </tr>\n",
       "    <tr>\n",
       "      <th>2</th>\n",
       "      <td>Applied Data Scientist / ML Senior Engineer (P...</td>\n",
       "      <td>SAP India Pvt.Ltd</td>\n",
       "      <td>Bangalore/Bengaluru</td>\n",
       "    </tr>\n",
       "    <tr>\n",
       "      <th>3</th>\n",
       "      <td>Data Scientist</td>\n",
       "      <td>UPL</td>\n",
       "      <td>Bangalore/Bengaluru, Mumbai (All Areas)</td>\n",
       "    </tr>\n",
       "    <tr>\n",
       "      <th>4</th>\n",
       "      <td>Expert Data Scientist</td>\n",
       "      <td>UPL</td>\n",
       "      <td>Bangalore/Bengaluru, Mumbai (All Areas)</td>\n",
       "    </tr>\n",
       "    <tr>\n",
       "      <th>5</th>\n",
       "      <td>Principal Data Scientist</td>\n",
       "      <td>UPL</td>\n",
       "      <td>Bangalore/Bengaluru, Mumbai (All Areas)</td>\n",
       "    </tr>\n",
       "    <tr>\n",
       "      <th>6</th>\n",
       "      <td>Analyst - Applied Data Scientist</td>\n",
       "      <td>Tesco</td>\n",
       "      <td>Bangalore/Bengaluru</td>\n",
       "    </tr>\n",
       "    <tr>\n",
       "      <th>7</th>\n",
       "      <td>Research Data Scientist</td>\n",
       "      <td>Mavenir</td>\n",
       "      <td>Bangalore/Bengaluru</td>\n",
       "    </tr>\n",
       "    <tr>\n",
       "      <th>8</th>\n",
       "      <td>Lead Python Data Scientist</td>\n",
       "      <td>Micello India Pvt Ltd</td>\n",
       "      <td>Bangalore/Bengaluru</td>\n",
       "    </tr>\n",
       "    <tr>\n",
       "      <th>9</th>\n",
       "      <td>Senior Data Scientist Grade12</td>\n",
       "      <td>Flipkart</td>\n",
       "      <td>Bangalore/Bengaluru</td>\n",
       "    </tr>\n",
       "  </tbody>\n",
       "</table>\n",
       "</div>"
      ],
      "text/plain": [
       "                                               TITLE                COMPANY  \\\n",
       "0                              Senior Data Scientist                    UPL   \n",
       "1               Sr. Analyst - Applied Data Scientist                  Tesco   \n",
       "2  Applied Data Scientist / ML Senior Engineer (P...      SAP India Pvt.Ltd   \n",
       "3                                     Data Scientist                    UPL   \n",
       "4                              Expert Data Scientist                    UPL   \n",
       "5                           Principal Data Scientist                    UPL   \n",
       "6                   Analyst - Applied Data Scientist                  Tesco   \n",
       "7                            Research Data Scientist                Mavenir   \n",
       "8                         Lead Python Data Scientist  Micello India Pvt Ltd   \n",
       "9                      Senior Data Scientist Grade12               Flipkart   \n",
       "\n",
       "                                  LOCATION  \n",
       "0  Bangalore/Bengaluru, Mumbai (All Areas)  \n",
       "1                      Bangalore/Bengaluru  \n",
       "2                      Bangalore/Bengaluru  \n",
       "3  Bangalore/Bengaluru, Mumbai (All Areas)  \n",
       "4  Bangalore/Bengaluru, Mumbai (All Areas)  \n",
       "5  Bangalore/Bengaluru, Mumbai (All Areas)  \n",
       "6                      Bangalore/Bengaluru  \n",
       "7                      Bangalore/Bengaluru  \n",
       "8                      Bangalore/Bengaluru  \n",
       "9                      Bangalore/Bengaluru  "
      ]
     },
     "execution_count": 388,
     "metadata": {},
     "output_type": "execute_result"
    }
   ],
   "source": [
    "# Creating DataFrame\n",
    "\n",
    "jobs = pd.DataFrame({})\n",
    "jobs['TITLE']=job_titles\n",
    "jobs['COMPANY']=company_names\n",
    "jobs['LOCATION']=location_list\n",
    "\n",
    "jobs"
   ]
  },
  {
   "cell_type": "markdown",
   "id": "91f1f08a",
   "metadata": {},
   "source": [
    "Q3: In this question you have to scrape data using the filters available on the webpage as shown below:\n"
   ]
  },
  {
   "cell_type": "markdown",
   "id": "f78e5e2a",
   "metadata": {},
   "source": [
    "You have to use the location and salary filter.\n",
    "You have to scrape data for “Data Scientist” designation for first 10 job results.\n",
    "You have to scrape the job-title, job-location, company name, experience required.\n",
    "The location filter to be used is “Delhi/NCR”. The salary filter to be used is “3-6” lakhs"
   ]
  },
  {
   "cell_type": "code",
   "execution_count": 389,
   "id": "ae4a30a9",
   "metadata": {},
   "outputs": [],
   "source": [
    "import selenium                   \n",
    "import pandas as pd              \n",
    "from selenium import webdriver   \n",
    "import warnings                      \n",
    "warnings.filterwarnings('ignore')\n",
    "import time                           "
   ]
  },
  {
   "cell_type": "code",
   "execution_count": 390,
   "id": "81614254",
   "metadata": {},
   "outputs": [],
   "source": [
    "driver = webdriver.Chrome(r\"C:\\Web Driver\\chromedriver.exe\")"
   ]
  },
  {
   "cell_type": "code",
   "execution_count": 391,
   "id": "6b7b8171",
   "metadata": {},
   "outputs": [],
   "source": [
    "driver.get('http://www.naukri.com/')"
   ]
  },
  {
   "cell_type": "code",
   "execution_count": 392,
   "id": "07e60576",
   "metadata": {},
   "outputs": [],
   "source": [
    "designation = driver.find_element_by_class_name(\"suggestor-input\")      # Type the class name from html code \n",
    "designation.send_keys(\"Data Scientist\")  "
   ]
  },
  {
   "cell_type": "code",
   "execution_count": 393,
   "id": "49805ba6",
   "metadata": {},
   "outputs": [],
   "source": [
    "button = driver.find_element_by_xpath(\"/html/body/div/div[2]/div[3]/div/div/div[6]\")\n",
    "button.click()"
   ]
  },
  {
   "cell_type": "code",
   "execution_count": 394,
   "id": "86df24d1",
   "metadata": {},
   "outputs": [],
   "source": [
    "# Applying Location filter automatically\n",
    "\n",
    "location_filter = driver.find_element_by_xpath(\"/html/body/div[1]/div[3]/div[2]/section[1]/div[2]/div[4]/div[2]/div[3]/label/p/span[1]\")\n",
    "location_filter.click()"
   ]
  },
  {
   "cell_type": "code",
   "execution_count": 397,
   "id": "2bd68120",
   "metadata": {},
   "outputs": [],
   "source": [
    "# Applying Salary filter automatically\n",
    "\n",
    "salary_filter = driver.find_element_by_xpath(\"/html/body/div[1]/div[3]/div[2]/section[1]/div[2]/div[5]/div[2]/div[2]/label/i\")\n",
    "salary_filter.click()"
   ]
  },
  {
   "cell_type": "markdown",
   "id": "1e8e6ce8",
   "metadata": {},
   "source": [
    "Scraping the Data"
   ]
  },
  {
   "cell_type": "code",
   "execution_count": 398,
   "id": "be56be18",
   "metadata": {},
   "outputs": [],
   "source": [
    "job_titles = []\n",
    "company_names = []\n",
    "location_list = []\n",
    "experience = []"
   ]
  },
  {
   "cell_type": "code",
   "execution_count": 399,
   "id": "2e0fead2",
   "metadata": {},
   "outputs": [
    {
     "data": {
      "text/plain": [
       "[<selenium.webdriver.remote.webelement.WebElement (session=\"5d5f924db6675223f5197308930ed55a\", element=\"6cce9924-9d55-45c7-8865-cfbf0f601616\")>,\n",
       " <selenium.webdriver.remote.webelement.WebElement (session=\"5d5f924db6675223f5197308930ed55a\", element=\"f228dcc5-b184-49e2-8121-7a871d588a14\")>,\n",
       " <selenium.webdriver.remote.webelement.WebElement (session=\"5d5f924db6675223f5197308930ed55a\", element=\"eb832524-b93c-46be-a0e0-f6d9270cc242\")>,\n",
       " <selenium.webdriver.remote.webelement.WebElement (session=\"5d5f924db6675223f5197308930ed55a\", element=\"6b417c2e-122d-43f6-bc46-9da6b638da50\")>]"
      ]
     },
     "execution_count": 399,
     "metadata": {},
     "output_type": "execute_result"
    }
   ],
   "source": [
    "# Scraping Job Titles\n",
    "\n",
    "titles_tags = driver.find_elements_by_xpath(\"//a[@class='title fw500 ellipsis']\")     \n",
    "titles_tags[0:4] "
   ]
  },
  {
   "cell_type": "code",
   "execution_count": 400,
   "id": "3b894b5b",
   "metadata": {},
   "outputs": [
    {
     "data": {
      "text/plain": [
       "['Data Scientist - Internet Jobs - II',\n",
       " 'Data Scientist',\n",
       " 'Junior Data Scientist',\n",
       " 'Associate Scientist - Data Engineering',\n",
       " 'Data Scientist || Software Company || Immediate Joiners To max 30 Days',\n",
       " 'Data Scientist (freelance)',\n",
       " 'Data Scientist/ Machine Learning, 2022 Passout Can also apply',\n",
       " 'Data Scientist',\n",
       " 'Associate Data Scientist',\n",
       " 'Hiring For Data Analyst and Data Scientist For Gurgaon Location']"
      ]
     },
     "execution_count": 400,
     "metadata": {},
     "output_type": "execute_result"
    }
   ],
   "source": [
    "for i in titles_tags[0:10]:\n",
    "    title=i.text\n",
    "    job_titles.append(title)\n",
    "job_titles"
   ]
  },
  {
   "cell_type": "code",
   "execution_count": 401,
   "id": "f537873f",
   "metadata": {},
   "outputs": [
    {
     "data": {
      "text/plain": [
       "[<selenium.webdriver.remote.webelement.WebElement (session=\"5d5f924db6675223f5197308930ed55a\", element=\"a05619dc-7447-4644-be1d-656c783e90f2\")>,\n",
       " <selenium.webdriver.remote.webelement.WebElement (session=\"5d5f924db6675223f5197308930ed55a\", element=\"d261e0e1-04a6-4d56-83e2-836d960787d4\")>,\n",
       " <selenium.webdriver.remote.webelement.WebElement (session=\"5d5f924db6675223f5197308930ed55a\", element=\"ee62dd6a-cc82-41c9-9703-a976e877ab5b\")>,\n",
       " <selenium.webdriver.remote.webelement.WebElement (session=\"5d5f924db6675223f5197308930ed55a\", element=\"7a71ed40-b2a6-4694-844d-51d04dc1f8bd\")>]"
      ]
     },
     "execution_count": 401,
     "metadata": {},
     "output_type": "execute_result"
    }
   ],
   "source": [
    "# Scraping company names\n",
    "\n",
    "company_tags = driver.find_elements_by_xpath(\"//a[@class='subTitle ellipsis fleft']\")   # Type elements for more than 1 data\n",
    "company_tags[0:4]"
   ]
  },
  {
   "cell_type": "code",
   "execution_count": 402,
   "id": "a7ee2a21",
   "metadata": {},
   "outputs": [
    {
     "data": {
      "text/plain": [
       "['Jobs Territory',\n",
       " 'Ashkom Media India Private Limited',\n",
       " 'EASY DATA ANALYTICS TECHNOLOGY PRIVATE LIMITED',\n",
       " 'AXA Technology Services India Pvt. Ltd',\n",
       " 'Skyleaf Consultants',\n",
       " '2Coms',\n",
       " 'Creative Hands HR Consultancy',\n",
       " 'BlackBuck',\n",
       " 'Optum',\n",
       " 'Shadow Placements']"
      ]
     },
     "execution_count": 402,
     "metadata": {},
     "output_type": "execute_result"
    }
   ],
   "source": [
    "for i in company_tags[0:10]:\n",
    "    company_names.append(i.text)\n",
    "company_names"
   ]
  },
  {
   "cell_type": "code",
   "execution_count": 403,
   "id": "eefed7e1",
   "metadata": {},
   "outputs": [
    {
     "data": {
      "text/plain": [
       "[<selenium.webdriver.remote.webelement.WebElement (session=\"5d5f924db6675223f5197308930ed55a\", element=\"2e6c561b-b782-478e-a9c8-e8d1f9b7a0bc\")>,\n",
       " <selenium.webdriver.remote.webelement.WebElement (session=\"5d5f924db6675223f5197308930ed55a\", element=\"84e1de72-4cc2-4a10-b713-8cbda94c9775\")>,\n",
       " <selenium.webdriver.remote.webelement.WebElement (session=\"5d5f924db6675223f5197308930ed55a\", element=\"1787f708-5142-478d-94bd-c48d26650701\")>,\n",
       " <selenium.webdriver.remote.webelement.WebElement (session=\"5d5f924db6675223f5197308930ed55a\", element=\"dc609045-70dd-4d2d-9481-9777e5451f58\")>]"
      ]
     },
     "execution_count": 403,
     "metadata": {},
     "output_type": "execute_result"
    }
   ],
   "source": [
    "# Scraping Experience\n",
    "\n",
    "experience_tags = driver.find_elements_by_xpath(\"//li[@class='fleft grey-text br2 placeHolderLi experience']/span\")\n",
    "experience_tags[0:4]"
   ]
  },
  {
   "cell_type": "code",
   "execution_count": 404,
   "id": "fc638dcf",
   "metadata": {},
   "outputs": [
    {
     "data": {
      "text/plain": [
       "['3-6 Yrs',\n",
       " '3-6 Yrs',\n",
       " '1-2 Yrs',\n",
       " '2-5 Yrs',\n",
       " '3-8 Yrs',\n",
       " '2-7 Yrs',\n",
       " '0-4 Yrs',\n",
       " '3-7 Yrs',\n",
       " '1-5 Yrs',\n",
       " '3-7 Yrs']"
      ]
     },
     "execution_count": 404,
     "metadata": {},
     "output_type": "execute_result"
    }
   ],
   "source": [
    "for i in experience_tags[0:10]:\n",
    "    experience.append(i.text)\n",
    "experience"
   ]
  },
  {
   "cell_type": "code",
   "execution_count": 405,
   "id": "3162a444",
   "metadata": {},
   "outputs": [
    {
     "data": {
      "text/plain": [
       "[<selenium.webdriver.remote.webelement.WebElement (session=\"5d5f924db6675223f5197308930ed55a\", element=\"8ede5bd1-8d17-4a4f-8005-46a71e47731f\")>,\n",
       " <selenium.webdriver.remote.webelement.WebElement (session=\"5d5f924db6675223f5197308930ed55a\", element=\"0fdbf0da-4c55-44b1-bb19-c30efb8f5e68\")>,\n",
       " <selenium.webdriver.remote.webelement.WebElement (session=\"5d5f924db6675223f5197308930ed55a\", element=\"70152416-a2db-4935-adeb-49e6a3c35080\")>,\n",
       " <selenium.webdriver.remote.webelement.WebElement (session=\"5d5f924db6675223f5197308930ed55a\", element=\"f0d8ba9a-8dd1-4a66-a984-47ec565d77e9\")>]"
      ]
     },
     "execution_count": 405,
     "metadata": {},
     "output_type": "execute_result"
    }
   ],
   "source": [
    "# Scraping Location\n",
    "\n",
    "location_tags = driver.find_elements_by_xpath(\"//li[@class='fleft grey-text br2 placeHolderLi location']/span[1]\")\n",
    "location_tags[0:4]"
   ]
  },
  {
   "cell_type": "code",
   "execution_count": 406,
   "id": "117cf30a",
   "metadata": {},
   "outputs": [
    {
     "data": {
      "text/plain": [
       "['Bangalore/Bengaluru, Delhi / NCR, Mumbai (All Areas)',\n",
       " 'Noida, Bangalore/Bengaluru',\n",
       " 'Noida',\n",
       " 'Gurgaon/Gurugram',\n",
       " 'Gurgaon/Gurugram, Bangalore/Bengaluru',\n",
       " 'New Delhi, Delhi',\n",
       " 'Hyderabad/Secunderabad, Pune, Chennai, Delhi / NCR, Vadodara, Mumbai (All Areas)',\n",
       " 'Gurgaon, Bengaluru',\n",
       " 'Gurgaon/Gurugram',\n",
       " 'Noida, Gurgaon/Gurugram, Delhi / NCR']"
      ]
     },
     "execution_count": 406,
     "metadata": {},
     "output_type": "execute_result"
    }
   ],
   "source": [
    "for i in location_tags[0:10]:\n",
    "    location_list.append(i.text)\n",
    "location_list"
   ]
  },
  {
   "cell_type": "code",
   "execution_count": 407,
   "id": "c8c2108d",
   "metadata": {},
   "outputs": [
    {
     "name": "stdout",
     "output_type": "stream",
     "text": [
      "10 10 10 10\n"
     ]
    }
   ],
   "source": [
    "print(len(job_titles),len(company_names),len(experience),len(location_list))"
   ]
  },
  {
   "cell_type": "code",
   "execution_count": 408,
   "id": "31eb7374",
   "metadata": {},
   "outputs": [
    {
     "data": {
      "text/html": [
       "<div>\n",
       "<style scoped>\n",
       "    .dataframe tbody tr th:only-of-type {\n",
       "        vertical-align: middle;\n",
       "    }\n",
       "\n",
       "    .dataframe tbody tr th {\n",
       "        vertical-align: top;\n",
       "    }\n",
       "\n",
       "    .dataframe thead th {\n",
       "        text-align: right;\n",
       "    }\n",
       "</style>\n",
       "<table border=\"1\" class=\"dataframe\">\n",
       "  <thead>\n",
       "    <tr style=\"text-align: right;\">\n",
       "      <th></th>\n",
       "      <th>TITLE</th>\n",
       "      <th>COMPANY</th>\n",
       "      <th>EXPERIENCE</th>\n",
       "      <th>LOCATION</th>\n",
       "    </tr>\n",
       "  </thead>\n",
       "  <tbody>\n",
       "    <tr>\n",
       "      <th>0</th>\n",
       "      <td>Data Scientist - Internet Jobs - II</td>\n",
       "      <td>Jobs Territory</td>\n",
       "      <td>3-6 Yrs</td>\n",
       "      <td>Bangalore/Bengaluru, Delhi / NCR, Mumbai (All ...</td>\n",
       "    </tr>\n",
       "    <tr>\n",
       "      <th>1</th>\n",
       "      <td>Data Scientist</td>\n",
       "      <td>Ashkom Media India Private Limited</td>\n",
       "      <td>3-6 Yrs</td>\n",
       "      <td>Noida, Bangalore/Bengaluru</td>\n",
       "    </tr>\n",
       "    <tr>\n",
       "      <th>2</th>\n",
       "      <td>Junior Data Scientist</td>\n",
       "      <td>EASY DATA ANALYTICS TECHNOLOGY PRIVATE LIMITED</td>\n",
       "      <td>1-2 Yrs</td>\n",
       "      <td>Noida</td>\n",
       "    </tr>\n",
       "    <tr>\n",
       "      <th>3</th>\n",
       "      <td>Associate Scientist - Data Engineering</td>\n",
       "      <td>AXA Technology Services India Pvt. Ltd</td>\n",
       "      <td>2-5 Yrs</td>\n",
       "      <td>Gurgaon/Gurugram</td>\n",
       "    </tr>\n",
       "    <tr>\n",
       "      <th>4</th>\n",
       "      <td>Data Scientist || Software Company || Immediat...</td>\n",
       "      <td>Skyleaf Consultants</td>\n",
       "      <td>3-8 Yrs</td>\n",
       "      <td>Gurgaon/Gurugram, Bangalore/Bengaluru</td>\n",
       "    </tr>\n",
       "    <tr>\n",
       "      <th>5</th>\n",
       "      <td>Data Scientist (freelance)</td>\n",
       "      <td>2Coms</td>\n",
       "      <td>2-7 Yrs</td>\n",
       "      <td>New Delhi, Delhi</td>\n",
       "    </tr>\n",
       "    <tr>\n",
       "      <th>6</th>\n",
       "      <td>Data Scientist/ Machine Learning, 2022 Passout...</td>\n",
       "      <td>Creative Hands HR Consultancy</td>\n",
       "      <td>0-4 Yrs</td>\n",
       "      <td>Hyderabad/Secunderabad, Pune, Chennai, Delhi /...</td>\n",
       "    </tr>\n",
       "    <tr>\n",
       "      <th>7</th>\n",
       "      <td>Data Scientist</td>\n",
       "      <td>BlackBuck</td>\n",
       "      <td>3-7 Yrs</td>\n",
       "      <td>Gurgaon, Bengaluru</td>\n",
       "    </tr>\n",
       "    <tr>\n",
       "      <th>8</th>\n",
       "      <td>Associate Data Scientist</td>\n",
       "      <td>Optum</td>\n",
       "      <td>1-5 Yrs</td>\n",
       "      <td>Gurgaon/Gurugram</td>\n",
       "    </tr>\n",
       "    <tr>\n",
       "      <th>9</th>\n",
       "      <td>Hiring For Data Analyst and Data Scientist For...</td>\n",
       "      <td>Shadow Placements</td>\n",
       "      <td>3-7 Yrs</td>\n",
       "      <td>Noida, Gurgaon/Gurugram, Delhi / NCR</td>\n",
       "    </tr>\n",
       "  </tbody>\n",
       "</table>\n",
       "</div>"
      ],
      "text/plain": [
       "                                               TITLE  \\\n",
       "0                Data Scientist - Internet Jobs - II   \n",
       "1                                     Data Scientist   \n",
       "2                              Junior Data Scientist   \n",
       "3             Associate Scientist - Data Engineering   \n",
       "4  Data Scientist || Software Company || Immediat...   \n",
       "5                         Data Scientist (freelance)   \n",
       "6  Data Scientist/ Machine Learning, 2022 Passout...   \n",
       "7                                     Data Scientist   \n",
       "8                           Associate Data Scientist   \n",
       "9  Hiring For Data Analyst and Data Scientist For...   \n",
       "\n",
       "                                          COMPANY EXPERIENCE  \\\n",
       "0                                  Jobs Territory    3-6 Yrs   \n",
       "1              Ashkom Media India Private Limited    3-6 Yrs   \n",
       "2  EASY DATA ANALYTICS TECHNOLOGY PRIVATE LIMITED    1-2 Yrs   \n",
       "3          AXA Technology Services India Pvt. Ltd    2-5 Yrs   \n",
       "4                             Skyleaf Consultants    3-8 Yrs   \n",
       "5                                           2Coms    2-7 Yrs   \n",
       "6                   Creative Hands HR Consultancy    0-4 Yrs   \n",
       "7                                       BlackBuck    3-7 Yrs   \n",
       "8                                           Optum    1-5 Yrs   \n",
       "9                               Shadow Placements    3-7 Yrs   \n",
       "\n",
       "                                            LOCATION  \n",
       "0  Bangalore/Bengaluru, Delhi / NCR, Mumbai (All ...  \n",
       "1                         Noida, Bangalore/Bengaluru  \n",
       "2                                              Noida  \n",
       "3                                   Gurgaon/Gurugram  \n",
       "4              Gurgaon/Gurugram, Bangalore/Bengaluru  \n",
       "5                                   New Delhi, Delhi  \n",
       "6  Hyderabad/Secunderabad, Pune, Chennai, Delhi /...  \n",
       "7                                 Gurgaon, Bengaluru  \n",
       "8                                   Gurgaon/Gurugram  \n",
       "9               Noida, Gurgaon/Gurugram, Delhi / NCR  "
      ]
     },
     "execution_count": 408,
     "metadata": {},
     "output_type": "execute_result"
    }
   ],
   "source": [
    "# Creating DataFrame\n",
    "\n",
    "jobs = pd.DataFrame({})\n",
    "jobs['TITLE']=job_titles\n",
    "jobs['COMPANY']=company_names\n",
    "jobs['EXPERIENCE']=experience\n",
    "jobs['LOCATION']=location_list\n",
    "\n",
    "jobs"
   ]
  },
  {
   "cell_type": "markdown",
   "id": "061b465a",
   "metadata": {},
   "source": [
    "Q4: Scrape data of first 100 sunglasses listings on flipkart.com. You have to scrape four attributes:"
   ]
  },
  {
   "cell_type": "markdown",
   "id": "dc5b9699",
   "metadata": {},
   "source": [
    "1. Brand\n",
    "2. Product Description\n",
    "3. Price\n",
    "4. Discount"
   ]
  },
  {
   "cell_type": "code",
   "execution_count": 183,
   "id": "ea8ab8aa",
   "metadata": {},
   "outputs": [],
   "source": [
    "import selenium                   \n",
    "import pandas as pd              \n",
    "from selenium import webdriver   \n",
    "import warnings                      \n",
    "warnings.filterwarnings('ignore')\n",
    "import time     "
   ]
  },
  {
   "cell_type": "code",
   "execution_count": 184,
   "id": "9f68f4f8",
   "metadata": {},
   "outputs": [],
   "source": [
    "driver = webdriver.Chrome(r\"C:\\Web Driver\\chromedriver.exe\")"
   ]
  },
  {
   "cell_type": "code",
   "execution_count": 185,
   "id": "5045db50",
   "metadata": {},
   "outputs": [],
   "source": [
    "driver.get('http://www.flipkart.com/')"
   ]
  },
  {
   "cell_type": "code",
   "execution_count": 186,
   "id": "9a0bdb13",
   "metadata": {},
   "outputs": [],
   "source": [
    "# Closing the login Pop-up by clicking on the close button automatically\n",
    "\n",
    "close_button = driver.find_element_by_xpath(\"/html/body/div[2]/div/div/button\")\n",
    "close_button.click()"
   ]
  },
  {
   "cell_type": "code",
   "execution_count": 187,
   "id": "64c9c535",
   "metadata": {},
   "outputs": [],
   "source": [
    "# Entering sunglasses in the search field\n",
    "\n",
    "product = driver.find_element_by_class_name(\"_3704LK\")\n",
    "product.send_keys(\"sunglasses\")"
   ]
  },
  {
   "cell_type": "code",
   "execution_count": 188,
   "id": "fd3e0b19",
   "metadata": {},
   "outputs": [],
   "source": [
    "# Clicking on Search button\n",
    "\n",
    "search = driver.find_element_by_xpath(\"/html/body/div[1]/div/div[1]/div[1]/div[2]/div[2]/form/div/button\")\n",
    "search.click()"
   ]
  },
  {
   "cell_type": "markdown",
   "id": "c084a345",
   "metadata": {},
   "source": [
    "Scraping the Data from the search result"
   ]
  },
  {
   "cell_type": "code",
   "execution_count": 189,
   "id": "a3246e71",
   "metadata": {},
   "outputs": [],
   "source": [
    "brand = []\n",
    "description = []\n",
    "price = []\n",
    "discount = []"
   ]
  },
  {
   "cell_type": "markdown",
   "id": "90e9b43c",
   "metadata": {},
   "source": [
    "SCRAPING BRAND NAME, PRODUCT DESCRIPTION, PRICE & DISCOUNT"
   ]
  },
  {
   "cell_type": "code",
   "execution_count": 190,
   "id": "4c2612e4",
   "metadata": {},
   "outputs": [],
   "source": [
    "for i in range(0,3):\n",
    "    brand_tags = driver.find_elements_by_class_name(\"_2WkVRV\")\n",
    "    description_tags = driver.find_elements_by_class_name(\"IRpwTa\")\n",
    "    price_tags = driver.find_elements_by_class_name(\"_30jeq3\")\n",
    "    discount_tags = driver.find_elements_by_class_name(\"_3Ay6Sb\")\n",
    "    \n",
    "    for i in brand_tags:\n",
    "        brand.append(i.text)\n",
    "        \n",
    "    for i in description_tags:\n",
    "        description.append(i.text)\n",
    "    \n",
    "    for i in price_tags[0:40]:\n",
    "        price.append(i.text)\n",
    "        \n",
    "    for i in discount_tags[0:40]:\n",
    "        discount.append(i.text)\n",
    "    \n",
    "    next_button = driver.find_elements_by_xpath(\"//a[@class='_1LKTO3']\")\n",
    "    try:\n",
    "        driver.get(next_button[1].get_attribute('href'))   #getting the link from the list for next page\n",
    "    except:\n",
    "        driver.get(next_button[0].get_attribute('href'))   \n",
    "    \n",
    "    time.sleep(5)   "
   ]
  },
  {
   "cell_type": "code",
   "execution_count": 191,
   "id": "2c760562",
   "metadata": {},
   "outputs": [],
   "source": [
    "brand_new = brand[0:100]\n",
    "description_new = description[0:100]\n",
    "price_new = price[0:100]\n",
    "discount_new = discount[0:100]"
   ]
  },
  {
   "cell_type": "code",
   "execution_count": 192,
   "id": "8348d7d8",
   "metadata": {},
   "outputs": [
    {
     "name": "stdout",
     "output_type": "stream",
     "text": [
      "100 100 100 100\n"
     ]
    }
   ],
   "source": [
    "print(len(brand_new),len(description_new),len(price_new),len(discount_new))"
   ]
  },
  {
   "cell_type": "code",
   "execution_count": 193,
   "id": "7b8c8948",
   "metadata": {},
   "outputs": [
    {
     "data": {
      "text/html": [
       "<div>\n",
       "<style scoped>\n",
       "    .dataframe tbody tr th:only-of-type {\n",
       "        vertical-align: middle;\n",
       "    }\n",
       "\n",
       "    .dataframe tbody tr th {\n",
       "        vertical-align: top;\n",
       "    }\n",
       "\n",
       "    .dataframe thead th {\n",
       "        text-align: right;\n",
       "    }\n",
       "</style>\n",
       "<table border=\"1\" class=\"dataframe\">\n",
       "  <thead>\n",
       "    <tr style=\"text-align: right;\">\n",
       "      <th></th>\n",
       "      <th>BRAND_NAME</th>\n",
       "      <th>PRODUCT_DESCRIPTION</th>\n",
       "      <th>PRICE</th>\n",
       "      <th>DISCOUNT</th>\n",
       "    </tr>\n",
       "  </thead>\n",
       "  <tbody>\n",
       "    <tr>\n",
       "      <th>0</th>\n",
       "      <td>GANSTA</td>\n",
       "      <td>UV Protection Aviator Sunglasses (57)</td>\n",
       "      <td>₹284</td>\n",
       "      <td>85% off</td>\n",
       "    </tr>\n",
       "    <tr>\n",
       "      <th>1</th>\n",
       "      <td>Singco India</td>\n",
       "      <td>Gradient, Toughened Glass Lens, UV Protection ...</td>\n",
       "      <td>₹630</td>\n",
       "      <td>78% off</td>\n",
       "    </tr>\n",
       "    <tr>\n",
       "      <th>2</th>\n",
       "      <td>Fastrack</td>\n",
       "      <td>UV Protection Wayfarer Sunglasses (Free Size)</td>\n",
       "      <td>₹647</td>\n",
       "      <td>28% off</td>\n",
       "    </tr>\n",
       "    <tr>\n",
       "      <th>3</th>\n",
       "      <td>SUNBEE</td>\n",
       "      <td>UV Protection, Polarized Wayfarer Sunglasses (...</td>\n",
       "      <td>₹283</td>\n",
       "      <td>78% off</td>\n",
       "    </tr>\n",
       "    <tr>\n",
       "      <th>4</th>\n",
       "      <td>Fastrack</td>\n",
       "      <td>UV Protection Rectangular Sunglasses (Free Size)</td>\n",
       "      <td>₹639</td>\n",
       "      <td>20% off</td>\n",
       "    </tr>\n",
       "    <tr>\n",
       "      <th>...</th>\n",
       "      <td>...</td>\n",
       "      <td>...</td>\n",
       "      <td>...</td>\n",
       "      <td>...</td>\n",
       "    </tr>\n",
       "    <tr>\n",
       "      <th>95</th>\n",
       "      <td>Resist</td>\n",
       "      <td>UV Protection, Riding Glasses, Toughened Glass...</td>\n",
       "      <td>₹864</td>\n",
       "      <td>56% off</td>\n",
       "    </tr>\n",
       "    <tr>\n",
       "      <th>96</th>\n",
       "      <td>CRYSTAL CART</td>\n",
       "      <td>Polarized, UV Protection Retro Square Sunglass...</td>\n",
       "      <td>₹319</td>\n",
       "      <td>75% off</td>\n",
       "    </tr>\n",
       "    <tr>\n",
       "      <th>97</th>\n",
       "      <td>Fastrack</td>\n",
       "      <td>UV Protection Rectangular Sunglasses (56)</td>\n",
       "      <td>₹575</td>\n",
       "      <td>28% off</td>\n",
       "    </tr>\n",
       "    <tr>\n",
       "      <th>98</th>\n",
       "      <td>SHAAH COLLECTIONS</td>\n",
       "      <td>UV Protection, Polarized, Mirrored Rectangular...</td>\n",
       "      <td>₹213</td>\n",
       "      <td>78% off</td>\n",
       "    </tr>\n",
       "    <tr>\n",
       "      <th>99</th>\n",
       "      <td>Singco India</td>\n",
       "      <td>Riding Glasses, UV Protection Clubmaster, Wayf...</td>\n",
       "      <td>₹329</td>\n",
       "      <td>83% off</td>\n",
       "    </tr>\n",
       "  </tbody>\n",
       "</table>\n",
       "<p>100 rows × 4 columns</p>\n",
       "</div>"
      ],
      "text/plain": [
       "           BRAND_NAME                                PRODUCT_DESCRIPTION  \\\n",
       "0              GANSTA              UV Protection Aviator Sunglasses (57)   \n",
       "1        Singco India  Gradient, Toughened Glass Lens, UV Protection ...   \n",
       "2            Fastrack      UV Protection Wayfarer Sunglasses (Free Size)   \n",
       "3              SUNBEE  UV Protection, Polarized Wayfarer Sunglasses (...   \n",
       "4            Fastrack   UV Protection Rectangular Sunglasses (Free Size)   \n",
       "..                ...                                                ...   \n",
       "95             Resist  UV Protection, Riding Glasses, Toughened Glass...   \n",
       "96       CRYSTAL CART  Polarized, UV Protection Retro Square Sunglass...   \n",
       "97           Fastrack          UV Protection Rectangular Sunglasses (56)   \n",
       "98  SHAAH COLLECTIONS  UV Protection, Polarized, Mirrored Rectangular...   \n",
       "99       Singco India  Riding Glasses, UV Protection Clubmaster, Wayf...   \n",
       "\n",
       "   PRICE DISCOUNT  \n",
       "0   ₹284  85% off  \n",
       "1   ₹630  78% off  \n",
       "2   ₹647  28% off  \n",
       "3   ₹283  78% off  \n",
       "4   ₹639  20% off  \n",
       "..   ...      ...  \n",
       "95  ₹864  56% off  \n",
       "96  ₹319  75% off  \n",
       "97  ₹575  28% off  \n",
       "98  ₹213  78% off  \n",
       "99  ₹329  83% off  \n",
       "\n",
       "[100 rows x 4 columns]"
      ]
     },
     "execution_count": 193,
     "metadata": {},
     "output_type": "execute_result"
    }
   ],
   "source": [
    "# Creating DataFrame\n",
    "\n",
    "sg = pd.DataFrame({})\n",
    "\n",
    "sg['BRAND_NAME'] = brand_new\n",
    "sg['PRODUCT_DESCRIPTION'] = description_new\n",
    "sg['PRICE'] = price_new\n",
    "sg['DISCOUNT'] = discount_new\n",
    "\n",
    "sg"
   ]
  },
  {
   "cell_type": "markdown",
   "id": "19411086",
   "metadata": {},
   "source": [
    "Q5: Scrape 100 reviews data from flipkart.com for iphone11 phone."
   ]
  },
  {
   "cell_type": "markdown",
   "id": "f2785253",
   "metadata": {},
   "source": [
    "1. Rating\n",
    "2. Review summary\n",
    "3. Full review"
   ]
  },
  {
   "cell_type": "code",
   "execution_count": 154,
   "id": "2ea85942",
   "metadata": {},
   "outputs": [],
   "source": [
    "import selenium                   \n",
    "import pandas as pd              \n",
    "from selenium import webdriver   \n",
    "import warnings                      \n",
    "warnings.filterwarnings('ignore')\n",
    "import time   "
   ]
  },
  {
   "cell_type": "code",
   "execution_count": 155,
   "id": "893d3db2",
   "metadata": {},
   "outputs": [],
   "source": [
    "driver = webdriver.Chrome(r\"C:\\Web Driver\\chromedriver.exe\")"
   ]
  },
  {
   "cell_type": "code",
   "execution_count": 156,
   "id": "5c3dd5ab",
   "metadata": {},
   "outputs": [],
   "source": [
    "driver.get('https://www.flipkart.com/apple-iphone-11-black-64-gb-includes-earpods-power-adapter/product-reviews/itm0f37c2240b217?pid=MOBFKCTSVZAXUHGR&lid=LSTMOBFKCTSVZAXUHGREPBFGI&marketplace=FLIPKART')"
   ]
  },
  {
   "cell_type": "code",
   "execution_count": 157,
   "id": "fd84590b",
   "metadata": {},
   "outputs": [],
   "source": [
    "rating = []\n",
    "summary = []\n",
    "full_review = []"
   ]
  },
  {
   "cell_type": "code",
   "execution_count": 158,
   "id": "24159cc2",
   "metadata": {},
   "outputs": [],
   "source": [
    "for i in range(0,10):\n",
    "    rating_tags = driver.find_elements_by_xpath(\"//div[@class='_3LWZlK _1BLPMq']\")\n",
    "    rating_tags2 = driver.find_elements_by_xpath(\"//div[@class='_3LWZlK _1rdVr6 _1BLPMq']\")\n",
    "    summary_tags = driver.find_elements_by_class_name(\"_2-N8zT\")\n",
    "    review_tags = driver.find_elements_by_class_name(\"t-ZTKy\")\n",
    "    \n",
    "    for i in rating_tags:\n",
    "        rating.append(i.text)\n",
    "        \n",
    "    for i in rating_tags2:\n",
    "        rating.append(i.text)                       \n",
    "    \n",
    "    for i in summary_tags:\n",
    "        summary.append(i.text)\n",
    "        \n",
    "    for i in review_tags:\n",
    "        full_review.append(i.text.replace('\\n',''))\n",
    "        \n",
    "    next_button = driver.find_elements_by_xpath(\"//a[@class='_1LKTO3']\")\n",
    "    try:\n",
    "        driver.get(next_button[1].get_attribute('href'))   #getting the link from the list for next page\n",
    "    except:\n",
    "        driver.get(next_button[0].get_attribute('href'))\n",
    "    \n",
    "    time.sleep(5)"
   ]
  },
  {
   "cell_type": "code",
   "execution_count": 159,
   "id": "aac524ef",
   "metadata": {},
   "outputs": [
    {
     "name": "stdout",
     "output_type": "stream",
     "text": [
      "100 100 100\n"
     ]
    }
   ],
   "source": [
    "print(len(rating),len(summary),len(full_review))"
   ]
  },
  {
   "cell_type": "code",
   "execution_count": 160,
   "id": "76b0d2d2",
   "metadata": {},
   "outputs": [
    {
     "data": {
      "text/html": [
       "<div>\n",
       "<style scoped>\n",
       "    .dataframe tbody tr th:only-of-type {\n",
       "        vertical-align: middle;\n",
       "    }\n",
       "\n",
       "    .dataframe tbody tr th {\n",
       "        vertical-align: top;\n",
       "    }\n",
       "\n",
       "    .dataframe thead th {\n",
       "        text-align: right;\n",
       "    }\n",
       "</style>\n",
       "<table border=\"1\" class=\"dataframe\">\n",
       "  <thead>\n",
       "    <tr style=\"text-align: right;\">\n",
       "      <th></th>\n",
       "      <th>RATING</th>\n",
       "      <th>REVIEW_SUMMARY</th>\n",
       "      <th>FULL_REVIEW</th>\n",
       "    </tr>\n",
       "  </thead>\n",
       "  <tbody>\n",
       "    <tr>\n",
       "      <th>0</th>\n",
       "      <td>5</td>\n",
       "      <td>Brilliant</td>\n",
       "      <td>The Best Phone for the MoneyThe iPhone 11 offe...</td>\n",
       "    </tr>\n",
       "    <tr>\n",
       "      <th>1</th>\n",
       "      <td>5</td>\n",
       "      <td>Simply awesome</td>\n",
       "      <td>Really satisfied with the Product I received.....</td>\n",
       "    </tr>\n",
       "    <tr>\n",
       "      <th>2</th>\n",
       "      <td>5</td>\n",
       "      <td>Best in the market!</td>\n",
       "      <td>Great iPhone very snappy experience as apple k...</td>\n",
       "    </tr>\n",
       "    <tr>\n",
       "      <th>3</th>\n",
       "      <td>5</td>\n",
       "      <td>Perfect product!</td>\n",
       "      <td>Amazing phone with great cameras and better ba...</td>\n",
       "    </tr>\n",
       "    <tr>\n",
       "      <th>4</th>\n",
       "      <td>5</td>\n",
       "      <td>Fabulous!</td>\n",
       "      <td>This is my first iOS phone. I am very happy wi...</td>\n",
       "    </tr>\n",
       "    <tr>\n",
       "      <th>...</th>\n",
       "      <td>...</td>\n",
       "      <td>...</td>\n",
       "      <td>...</td>\n",
       "    </tr>\n",
       "    <tr>\n",
       "      <th>95</th>\n",
       "      <td>5</td>\n",
       "      <td>Excellent</td>\n",
       "      <td>A perfect phone and a good battery super camer...</td>\n",
       "    </tr>\n",
       "    <tr>\n",
       "      <th>96</th>\n",
       "      <td>5</td>\n",
       "      <td>Super!</td>\n",
       "      <td>This is my first ever iPhone.And I truly don’t...</td>\n",
       "    </tr>\n",
       "    <tr>\n",
       "      <th>97</th>\n",
       "      <td>5</td>\n",
       "      <td>Worth every penny</td>\n",
       "      <td>Undoubtedly Iphone 11 is the most successful m...</td>\n",
       "    </tr>\n",
       "    <tr>\n",
       "      <th>98</th>\n",
       "      <td>5</td>\n",
       "      <td>Fabulous!</td>\n",
       "      <td>I purchased the iPhone 11 a month back. I must...</td>\n",
       "    </tr>\n",
       "    <tr>\n",
       "      <th>99</th>\n",
       "      <td>5</td>\n",
       "      <td>Best in the market!</td>\n",
       "      <td>Don’t expect much from front camera… especiall...</td>\n",
       "    </tr>\n",
       "  </tbody>\n",
       "</table>\n",
       "<p>100 rows × 3 columns</p>\n",
       "</div>"
      ],
      "text/plain": [
       "   RATING       REVIEW_SUMMARY  \\\n",
       "0       5            Brilliant   \n",
       "1       5       Simply awesome   \n",
       "2       5  Best in the market!   \n",
       "3       5     Perfect product!   \n",
       "4       5            Fabulous!   \n",
       "..    ...                  ...   \n",
       "95      5            Excellent   \n",
       "96      5               Super!   \n",
       "97      5    Worth every penny   \n",
       "98      5            Fabulous!   \n",
       "99      5  Best in the market!   \n",
       "\n",
       "                                          FULL_REVIEW  \n",
       "0   The Best Phone for the MoneyThe iPhone 11 offe...  \n",
       "1   Really satisfied with the Product I received.....  \n",
       "2   Great iPhone very snappy experience as apple k...  \n",
       "3   Amazing phone with great cameras and better ba...  \n",
       "4   This is my first iOS phone. I am very happy wi...  \n",
       "..                                                ...  \n",
       "95  A perfect phone and a good battery super camer...  \n",
       "96  This is my first ever iPhone.And I truly don’t...  \n",
       "97  Undoubtedly Iphone 11 is the most successful m...  \n",
       "98  I purchased the iPhone 11 a month back. I must...  \n",
       "99  Don’t expect much from front camera… especiall...  \n",
       "\n",
       "[100 rows x 3 columns]"
      ]
     },
     "execution_count": 160,
     "metadata": {},
     "output_type": "execute_result"
    }
   ],
   "source": [
    "iphone = pd.DataFrame({})\n",
    "\n",
    "iphone['RATING'] = rating\n",
    "iphone['REVIEW_SUMMARY']  = summary\n",
    "iphone['FULL_REVIEW'] = full_review\n",
    "\n",
    "iphone"
   ]
  },
  {
   "cell_type": "markdown",
   "id": "10d56c2b",
   "metadata": {},
   "source": [
    "Q6: Scrape data for first 100 sneakers you find when you visit flipkart.com andsearch for “sneakers” in the\n",
    "search field.\n"
   ]
  },
  {
   "cell_type": "markdown",
   "id": "6da132cc",
   "metadata": {},
   "source": [
    "You have to scrape 4 attributes of each sneaker:\n",
    "1. Brand\n",
    "2. Product Description\n",
    "3. Price\n",
    "4. Discount"
   ]
  },
  {
   "cell_type": "code",
   "execution_count": 161,
   "id": "d70f3799",
   "metadata": {},
   "outputs": [],
   "source": [
    "import selenium                   \n",
    "import pandas as pd              \n",
    "from selenium import webdriver   \n",
    "import warnings                      \n",
    "warnings.filterwarnings('ignore')\n",
    "import time "
   ]
  },
  {
   "cell_type": "code",
   "execution_count": 162,
   "id": "a16ed47a",
   "metadata": {},
   "outputs": [],
   "source": [
    "driver = webdriver.Chrome(r\"C:\\Web Driver\\chromedriver.exe\")"
   ]
  },
  {
   "cell_type": "code",
   "execution_count": 163,
   "id": "71fcb953",
   "metadata": {},
   "outputs": [],
   "source": [
    "driver.get('http://www.flipkart.com/')"
   ]
  },
  {
   "cell_type": "code",
   "execution_count": 164,
   "id": "79b583e8",
   "metadata": {},
   "outputs": [],
   "source": [
    "# Closing the login Pop-up by clicking on the close button automatically\n",
    "\n",
    "close_button = driver.find_element_by_xpath(\"/html/body/div[2]/div/div/button\")\n",
    "close_button.click()"
   ]
  },
  {
   "cell_type": "code",
   "execution_count": 165,
   "id": "c9bf335e",
   "metadata": {},
   "outputs": [],
   "source": [
    "# Entering sneakers in the search field\n",
    "\n",
    "product = driver.find_element_by_class_name(\"_3704LK\")\n",
    "product.send_keys(\"sneakers\")"
   ]
  },
  {
   "cell_type": "code",
   "execution_count": 166,
   "id": "545466ec",
   "metadata": {},
   "outputs": [],
   "source": [
    "# Clicking on Search button\n",
    "\n",
    "search = driver.find_element_by_xpath(\"/html/body/div[1]/div/div[1]/div[1]/div[2]/div[2]/form/div/button\")\n",
    "search.click()"
   ]
  },
  {
   "cell_type": "markdown",
   "id": "04bf0e49",
   "metadata": {},
   "source": [
    "Scraping the Data from the search result"
   ]
  },
  {
   "cell_type": "code",
   "execution_count": 178,
   "id": "9ed0658f",
   "metadata": {},
   "outputs": [],
   "source": [
    "brand = []\n",
    "description = []\n",
    "price = []\n",
    "discount = []"
   ]
  },
  {
   "cell_type": "markdown",
   "id": "a1b68282",
   "metadata": {},
   "source": [
    "SCRAPING BRAND NAME, PRODUCT DESCRIPTION, PRICE & DISCOUNT"
   ]
  },
  {
   "cell_type": "code",
   "execution_count": 179,
   "id": "a0db2357",
   "metadata": {},
   "outputs": [],
   "source": [
    "for i in range(0,3):\n",
    "    brand_tags = driver.find_elements_by_class_name(\"_2WkVRV\")\n",
    "    description_tags = driver.find_elements_by_class_name(\"IRpwTa\")\n",
    "    price_tags = driver.find_elements_by_class_name(\"_30jeq3\")\n",
    "    discount_tags = driver.find_elements_by_class_name(\"_3Ay6Sb\")\n",
    "    \n",
    "    for i in brand_tags:\n",
    "        brand.append(i.text)\n",
    "        \n",
    "    for i in description_tags:\n",
    "        description.append(i.text)\n",
    "    \n",
    "    for i in price_tags[0:40]:\n",
    "        price.append(i.text)\n",
    "        \n",
    "    for i in discount_tags[0:40]:\n",
    "        discount.append(i.text)\n",
    "    \n",
    "    next_button = driver.find_elements_by_xpath(\"//a[@class='_1LKTO3']\")\n",
    "    try:\n",
    "        driver.get(next_button[1].get_attribute('href'))   \n",
    "    except:\n",
    "        driver.get(next_button[0].get_attribute('href'))   \n",
    "    \n",
    "    time.sleep(5)   "
   ]
  },
  {
   "cell_type": "code",
   "execution_count": 180,
   "id": "e2343a0a",
   "metadata": {},
   "outputs": [],
   "source": [
    "brand_new = brand[0:100]\n",
    "description_new = description[0:100]\n",
    "price_new = price[0:100]\n",
    "discount_new = discount[0:100]"
   ]
  },
  {
   "cell_type": "code",
   "execution_count": 181,
   "id": "424d1b0d",
   "metadata": {},
   "outputs": [
    {
     "name": "stdout",
     "output_type": "stream",
     "text": [
      "100 100 100 100\n"
     ]
    }
   ],
   "source": [
    "print(len(brand_new),len(description_new),len(price_new),len(discount_new))"
   ]
  },
  {
   "cell_type": "code",
   "execution_count": 182,
   "id": "8d44195e",
   "metadata": {},
   "outputs": [
    {
     "data": {
      "text/html": [
       "<div>\n",
       "<style scoped>\n",
       "    .dataframe tbody tr th:only-of-type {\n",
       "        vertical-align: middle;\n",
       "    }\n",
       "\n",
       "    .dataframe tbody tr th {\n",
       "        vertical-align: top;\n",
       "    }\n",
       "\n",
       "    .dataframe thead th {\n",
       "        text-align: right;\n",
       "    }\n",
       "</style>\n",
       "<table border=\"1\" class=\"dataframe\">\n",
       "  <thead>\n",
       "    <tr style=\"text-align: right;\">\n",
       "      <th></th>\n",
       "      <th>BRAND_NAME</th>\n",
       "      <th>PRODUCT_DESCRIPTION</th>\n",
       "      <th>PRICE</th>\n",
       "      <th>DISCOUNT</th>\n",
       "    </tr>\n",
       "  </thead>\n",
       "  <tbody>\n",
       "    <tr>\n",
       "      <th>0</th>\n",
       "      <td>URBANBOX</td>\n",
       "      <td>Sneakers Sneakers For Men</td>\n",
       "      <td>₹158</td>\n",
       "      <td>84% off</td>\n",
       "    </tr>\n",
       "    <tr>\n",
       "      <th>1</th>\n",
       "      <td>BRUTON</td>\n",
       "      <td>Modern Trendy Sneakers Shoes Sneakers For Men</td>\n",
       "      <td>₹245</td>\n",
       "      <td>81% off</td>\n",
       "    </tr>\n",
       "    <tr>\n",
       "      <th>2</th>\n",
       "      <td>HRX by Hrithik Roshan</td>\n",
       "      <td>Sneakers For Men</td>\n",
       "      <td>₹692</td>\n",
       "      <td>80% off</td>\n",
       "    </tr>\n",
       "    <tr>\n",
       "      <th>3</th>\n",
       "      <td>BIRDE</td>\n",
       "      <td>Stylish Comfortable Lightweight, Breathable Wa...</td>\n",
       "      <td>₹269</td>\n",
       "      <td>73% off</td>\n",
       "    </tr>\n",
       "    <tr>\n",
       "      <th>4</th>\n",
       "      <td>Magnolia</td>\n",
       "      <td>Sneakers For Men</td>\n",
       "      <td>₹351</td>\n",
       "      <td>64% off</td>\n",
       "    </tr>\n",
       "    <tr>\n",
       "      <th>...</th>\n",
       "      <td>...</td>\n",
       "      <td>...</td>\n",
       "      <td>...</td>\n",
       "      <td>...</td>\n",
       "    </tr>\n",
       "    <tr>\n",
       "      <th>95</th>\n",
       "      <td>aadi</td>\n",
       "      <td>Sneakers For Men</td>\n",
       "      <td>₹297</td>\n",
       "      <td>70% off</td>\n",
       "    </tr>\n",
       "    <tr>\n",
       "      <th>96</th>\n",
       "      <td>Shoes Bank</td>\n",
       "      <td>White Sneaker For Men's/Boy's Sneakers For Men</td>\n",
       "      <td>₹348</td>\n",
       "      <td>65% off</td>\n",
       "    </tr>\n",
       "    <tr>\n",
       "      <th>97</th>\n",
       "      <td>DRESTA</td>\n",
       "      <td>Original Luxury Branded Fashionable Men's Casu...</td>\n",
       "      <td>₹449</td>\n",
       "      <td>77% off</td>\n",
       "    </tr>\n",
       "    <tr>\n",
       "      <th>98</th>\n",
       "      <td>Nilatin</td>\n",
       "      <td>Sneakers For Men</td>\n",
       "      <td>₹549</td>\n",
       "      <td>81% off</td>\n",
       "    </tr>\n",
       "    <tr>\n",
       "      <th>99</th>\n",
       "      <td>KROXX</td>\n",
       "      <td>Sneakers For Men</td>\n",
       "      <td>₹510</td>\n",
       "      <td>65% off</td>\n",
       "    </tr>\n",
       "  </tbody>\n",
       "</table>\n",
       "<p>100 rows × 4 columns</p>\n",
       "</div>"
      ],
      "text/plain": [
       "               BRAND_NAME                                PRODUCT_DESCRIPTION  \\\n",
       "0                URBANBOX                          Sneakers Sneakers For Men   \n",
       "1                  BRUTON      Modern Trendy Sneakers Shoes Sneakers For Men   \n",
       "2   HRX by Hrithik Roshan                                   Sneakers For Men   \n",
       "3                   BIRDE  Stylish Comfortable Lightweight, Breathable Wa...   \n",
       "4                Magnolia                                   Sneakers For Men   \n",
       "..                    ...                                                ...   \n",
       "95                   aadi                                   Sneakers For Men   \n",
       "96             Shoes Bank     White Sneaker For Men's/Boy's Sneakers For Men   \n",
       "97                 DRESTA  Original Luxury Branded Fashionable Men's Casu...   \n",
       "98                Nilatin                                   Sneakers For Men   \n",
       "99                  KROXX                                   Sneakers For Men   \n",
       "\n",
       "   PRICE DISCOUNT  \n",
       "0   ₹158  84% off  \n",
       "1   ₹245  81% off  \n",
       "2   ₹692  80% off  \n",
       "3   ₹269  73% off  \n",
       "4   ₹351  64% off  \n",
       "..   ...      ...  \n",
       "95  ₹297  70% off  \n",
       "96  ₹348  65% off  \n",
       "97  ₹449  77% off  \n",
       "98  ₹549  81% off  \n",
       "99  ₹510  65% off  \n",
       "\n",
       "[100 rows x 4 columns]"
      ]
     },
     "execution_count": 182,
     "metadata": {},
     "output_type": "execute_result"
    }
   ],
   "source": [
    "# Creating DataFrame\n",
    "\n",
    "sn = pd.DataFrame({})\n",
    "\n",
    "sn['BRAND_NAME'] = brand_new\n",
    "sn['PRODUCT_DESCRIPTION'] = description_new\n",
    "sn['PRICE'] = price_new\n",
    "sn['DISCOUNT'] = discount_new\n",
    "\n",
    "sn"
   ]
  },
  {
   "cell_type": "markdown",
   "id": "7d101455",
   "metadata": {},
   "source": [
    "Q7: Go to the link - https://www.myntra.com/shoes\n",
    ". \n",
    "Set Price filter to “Rs. 7149 to Rs. 14099 ” , Color filter to “Black”, as shown in the below image.\n"
   ]
  },
  {
   "cell_type": "markdown",
   "id": "eabc3e15",
   "metadata": {},
   "source": [
    "And then scrape First 100 shoes data you get. The data should include “Brand” of the shoes , Short Shoe\n",
    "description, price of the shoe as shown in the below image."
   ]
  },
  {
   "cell_type": "code",
   "execution_count": 300,
   "id": "dffbb562",
   "metadata": {},
   "outputs": [],
   "source": [
    "import selenium                   \n",
    "import pandas as pd              \n",
    "from selenium import webdriver   \n",
    "import warnings                      \n",
    "warnings.filterwarnings('ignore')\n",
    "import time "
   ]
  },
  {
   "cell_type": "code",
   "execution_count": 301,
   "id": "8946604c",
   "metadata": {},
   "outputs": [],
   "source": [
    "driver = webdriver.Chrome(r\"C:\\Web Driver\\chromedriver.exe\")"
   ]
  },
  {
   "cell_type": "code",
   "execution_count": 302,
   "id": "34d1c6f3",
   "metadata": {},
   "outputs": [],
   "source": [
    "driver.get('https://www.myntra.com/shoes')"
   ]
  },
  {
   "cell_type": "code",
   "execution_count": 303,
   "id": "2e57a957",
   "metadata": {},
   "outputs": [],
   "source": [
    "# Setting the Color Filter to Black\n",
    "\n",
    "color_filter = driver.find_element_by_xpath(\"/html/body/div[2]/div/div[1]/main/div[3]/div[1]/section/div/div[6]/ul/li[1]/label/div\")\n",
    "color_filter.click()"
   ]
  },
  {
   "cell_type": "code",
   "execution_count": 304,
   "id": "1d346c74",
   "metadata": {},
   "outputs": [],
   "source": [
    "#Setting the price filter\n",
    "\n",
    "price_filter = driver.find_element_by_xpath(\"/html/body/div[2]/div/div[1]/main/div[3]/div[1]/section/div/div[5]/ul/li[2]/label/div\")\n",
    "price_filter.click()"
   ]
  },
  {
   "cell_type": "markdown",
   "id": "69ee69ac",
   "metadata": {},
   "source": [
    "Scraping the Data from the search result"
   ]
  },
  {
   "cell_type": "code",
   "execution_count": 305,
   "id": "2c8f5f71",
   "metadata": {},
   "outputs": [],
   "source": [
    "brand = []\n",
    "description = []\n",
    "price = []"
   ]
  },
  {
   "cell_type": "code",
   "execution_count": 306,
   "id": "a636908f",
   "metadata": {},
   "outputs": [],
   "source": [
    "for i in range(0,2):\n",
    "    brand_tags = driver.find_elements_by_class_name(\"product-brand\")\n",
    "    description_tags = driver.find_elements_by_xpath(\"//h4[@class='product-product']\")\n",
    "    price_tags = driver.find_elements_by_class_name(\"product-price\")\n",
    "    \n",
    "    for i in brand_tags:\n",
    "        brand.append(i.text)\n",
    "    for i in description_tags:\n",
    "        description.append(i.text)\n",
    "    for i in price_tags:\n",
    "        price.append(i.text.split()[1].replace('Rs.',''))\n",
    "    \n",
    "    next_button = driver.find_element_by_class_name(\"pagination-next\")\n",
    "    next_button.click()\n",
    "    \n",
    "    time.sleep(5)"
   ]
  },
  {
   "cell_type": "code",
   "execution_count": 307,
   "id": "734113d8",
   "metadata": {},
   "outputs": [
    {
     "name": "stdout",
     "output_type": "stream",
     "text": [
      "100 100 100\n"
     ]
    }
   ],
   "source": [
    "print(len(brand),len(description),len(price))"
   ]
  },
  {
   "cell_type": "code",
   "execution_count": 308,
   "id": "2c95f483",
   "metadata": {},
   "outputs": [
    {
     "data": {
      "text/html": [
       "<div>\n",
       "<style scoped>\n",
       "    .dataframe tbody tr th:only-of-type {\n",
       "        vertical-align: middle;\n",
       "    }\n",
       "\n",
       "    .dataframe tbody tr th {\n",
       "        vertical-align: top;\n",
       "    }\n",
       "\n",
       "    .dataframe thead th {\n",
       "        text-align: right;\n",
       "    }\n",
       "</style>\n",
       "<table border=\"1\" class=\"dataframe\">\n",
       "  <thead>\n",
       "    <tr style=\"text-align: right;\">\n",
       "      <th></th>\n",
       "      <th>BRAND</th>\n",
       "      <th>SHORT_DESCRIPTION</th>\n",
       "      <th>PRICE_(INR)</th>\n",
       "    </tr>\n",
       "  </thead>\n",
       "  <tbody>\n",
       "    <tr>\n",
       "      <th>0</th>\n",
       "      <td>PUMA Motorsport</td>\n",
       "      <td>Unisex Mercedes F1 Sneakers</td>\n",
       "      <td>7999</td>\n",
       "    </tr>\n",
       "    <tr>\n",
       "      <th>1</th>\n",
       "      <td>Skechers</td>\n",
       "      <td>Men Max Cushioning Running</td>\n",
       "      <td>7199</td>\n",
       "    </tr>\n",
       "    <tr>\n",
       "      <th>2</th>\n",
       "      <td>ALDO</td>\n",
       "      <td>Men Sneakers</td>\n",
       "      <td>9999</td>\n",
       "    </tr>\n",
       "    <tr>\n",
       "      <th>3</th>\n",
       "      <td>Nike</td>\n",
       "      <td>Men React Miler2 Running Shoes</td>\n",
       "      <td>11495</td>\n",
       "    </tr>\n",
       "    <tr>\n",
       "      <th>4</th>\n",
       "      <td>UNDER ARMOUR</td>\n",
       "      <td>Men Charged Rouge 3 Run Shoes</td>\n",
       "      <td>7999</td>\n",
       "    </tr>\n",
       "    <tr>\n",
       "      <th>...</th>\n",
       "      <td>...</td>\n",
       "      <td>...</td>\n",
       "      <td>...</td>\n",
       "    </tr>\n",
       "    <tr>\n",
       "      <th>95</th>\n",
       "      <td>Clarks</td>\n",
       "      <td>Women Leather Flatforms</td>\n",
       "      <td>7999</td>\n",
       "    </tr>\n",
       "    <tr>\n",
       "      <th>96</th>\n",
       "      <td>ALDO</td>\n",
       "      <td>Leather Platform Mules</td>\n",
       "      <td>9999</td>\n",
       "    </tr>\n",
       "    <tr>\n",
       "      <th>97</th>\n",
       "      <td>DAVINCHI</td>\n",
       "      <td>Men Textured Formal Leather Loafers</td>\n",
       "      <td>8990</td>\n",
       "    </tr>\n",
       "    <tr>\n",
       "      <th>98</th>\n",
       "      <td>Heel &amp; Buckle London</td>\n",
       "      <td>Men Formal Leather Derby</td>\n",
       "      <td>7990</td>\n",
       "    </tr>\n",
       "    <tr>\n",
       "      <th>99</th>\n",
       "      <td>Bugatti</td>\n",
       "      <td>Women Textured Mules</td>\n",
       "      <td>7999</td>\n",
       "    </tr>\n",
       "  </tbody>\n",
       "</table>\n",
       "<p>100 rows × 3 columns</p>\n",
       "</div>"
      ],
      "text/plain": [
       "                   BRAND                    SHORT_DESCRIPTION PRICE_(INR)\n",
       "0        PUMA Motorsport          Unisex Mercedes F1 Sneakers        7999\n",
       "1               Skechers           Men Max Cushioning Running        7199\n",
       "2                   ALDO                         Men Sneakers        9999\n",
       "3                   Nike       Men React Miler2 Running Shoes       11495\n",
       "4           UNDER ARMOUR        Men Charged Rouge 3 Run Shoes        7999\n",
       "..                   ...                                  ...         ...\n",
       "95                Clarks              Women Leather Flatforms        7999\n",
       "96                  ALDO               Leather Platform Mules        9999\n",
       "97              DAVINCHI  Men Textured Formal Leather Loafers        8990\n",
       "98  Heel & Buckle London             Men Formal Leather Derby        7990\n",
       "99               Bugatti                 Women Textured Mules        7999\n",
       "\n",
       "[100 rows x 3 columns]"
      ]
     },
     "execution_count": 308,
     "metadata": {},
     "output_type": "execute_result"
    }
   ],
   "source": [
    "# Creating DataFrame\n",
    "\n",
    "shoes = pd.DataFrame({})\n",
    "\n",
    "shoes[\"BRAND\"] = brand\n",
    "shoes[\"SHORT_DESCRIPTION\"] = description\n",
    "shoes[\"PRICE_(INR)\"] = price\n",
    "\n",
    "shoes"
   ]
  },
  {
   "cell_type": "markdown",
   "id": "25b09d1c",
   "metadata": {},
   "source": [
    "Q8: Go to webpage https://www.amazon.in/.  Enter “Laptop” in the search field and then click the search icon.  Then set CPU Type filter to “Intel Core i7” and “Intel Core i9” as shown in the below image:"
   ]
  },
  {
   "cell_type": "markdown",
   "id": "5962452f",
   "metadata": {},
   "source": [
    "After setting the filters scrape first 10 laptops data. You have to scrape 3 attributesfor each laptop:\n",
    "1. Title\n",
    "2. Ratings\n",
    "3. Price\n"
   ]
  },
  {
   "cell_type": "code",
   "execution_count": 309,
   "id": "bffa0843",
   "metadata": {},
   "outputs": [],
   "source": [
    "import selenium                   \n",
    "import pandas as pd              \n",
    "from selenium import webdriver   \n",
    "import warnings                      \n",
    "warnings.filterwarnings('ignore')\n",
    "import time "
   ]
  },
  {
   "cell_type": "code",
   "execution_count": 317,
   "id": "25b6c81e",
   "metadata": {},
   "outputs": [],
   "source": [
    "driver = webdriver.Chrome(r\"C:\\Web Driver\\chromedriver.exe\")"
   ]
  },
  {
   "cell_type": "code",
   "execution_count": 318,
   "id": "d188e846",
   "metadata": {},
   "outputs": [],
   "source": [
    "driver.get('https://www.amazon.in/')"
   ]
  },
  {
   "cell_type": "code",
   "execution_count": 319,
   "id": "ebe0d74e",
   "metadata": {},
   "outputs": [],
   "source": [
    "# Entering Laptop in the search field\n",
    "\n",
    "product = driver.find_element_by_xpath(\"/html/body/div[1]/header/div/div[1]/div[2]/div/form/div[2]/div[1]/input\")\n",
    "product.send_keys(\"Laptop\")"
   ]
  },
  {
   "cell_type": "code",
   "execution_count": 320,
   "id": "0b9c0a5b",
   "metadata": {},
   "outputs": [],
   "source": [
    "# Clicking on Search\n",
    "\n",
    "search = driver.find_element_by_xpath(\"/html/body/div[1]/header/div/div[1]/div[2]/div/form/div[3]/div/span/input\")\n",
    "search.click()"
   ]
  },
  {
   "cell_type": "code",
   "execution_count": 328,
   "id": "63ff74a6",
   "metadata": {},
   "outputs": [],
   "source": [
    "i7 = driver.find_element_by_xpath(\"/html/body/div[1]/div[2]/div[1]/div[2]/div/div[3]/span/div[1]/div/div/div[6]/ul[4]/li[12]/span/a/div\")\n",
    "i7.click()"
   ]
  },
  {
   "cell_type": "code",
   "execution_count": 355,
   "id": "dbc07aa5",
   "metadata": {},
   "outputs": [],
   "source": [
    "title = []\n",
    "rating = []\n",
    "price = []"
   ]
  },
  {
   "cell_type": "code",
   "execution_count": 337,
   "id": "88e37286",
   "metadata": {},
   "outputs": [],
   "source": [
    "title_tags = driver.find_elements_by_xpath(\"//h2[@class='a-size-mini a-spacing-none a-color-base s-line-clamp-2']\")\n",
    "rating_tags = driver.find_elements_by_xpath(\"//span[@class='a-icon-alt']\")\n",
    "price_tags = driver.find_elements_by_class_name(\"a-price-whole\")\n",
    "\n",
    "for i in title_tags[0:10]:\n",
    "    title.append(i.text)\n",
    "\n",
    "for i in rating_tags[0:10]:\n",
    "    rating.append(i.text)\n",
    "\n",
    "for i in price_tags[0:10]:\n",
    "    price.append(i.text)\n"
   ]
  },
  {
   "cell_type": "code",
   "execution_count": 338,
   "id": "141bfb8c",
   "metadata": {},
   "outputs": [
    {
     "name": "stdout",
     "output_type": "stream",
     "text": [
      "10 10 10\n"
     ]
    }
   ],
   "source": [
    "print(len(title),len(rating),len(price))"
   ]
  },
  {
   "cell_type": "code",
   "execution_count": 339,
   "id": "2dd213ce",
   "metadata": {},
   "outputs": [
    {
     "data": {
      "text/html": [
       "<div>\n",
       "<style scoped>\n",
       "    .dataframe tbody tr th:only-of-type {\n",
       "        vertical-align: middle;\n",
       "    }\n",
       "\n",
       "    .dataframe tbody tr th {\n",
       "        vertical-align: top;\n",
       "    }\n",
       "\n",
       "    .dataframe thead th {\n",
       "        text-align: right;\n",
       "    }\n",
       "</style>\n",
       "<table border=\"1\" class=\"dataframe\">\n",
       "  <thead>\n",
       "    <tr style=\"text-align: right;\">\n",
       "      <th></th>\n",
       "      <th>TITLE</th>\n",
       "      <th>RATING</th>\n",
       "      <th>PRICE</th>\n",
       "    </tr>\n",
       "  </thead>\n",
       "  <tbody>\n",
       "    <tr>\n",
       "      <th>0</th>\n",
       "      <td>Lenovo IdeaPad Gaming 3 Intel Core i7 10th Gen...</td>\n",
       "      <td></td>\n",
       "      <td>73,990</td>\n",
       "    </tr>\n",
       "    <tr>\n",
       "      <th>1</th>\n",
       "      <td>Lenovo Legion 5 11th Gen Intel Core i7-11800H ...</td>\n",
       "      <td></td>\n",
       "      <td>1,10,490</td>\n",
       "    </tr>\n",
       "    <tr>\n",
       "      <th>2</th>\n",
       "      <td>Mi Notebook Ultra 3.2K Resolution Display Inte...</td>\n",
       "      <td></td>\n",
       "      <td>77,490</td>\n",
       "    </tr>\n",
       "    <tr>\n",
       "      <th>3</th>\n",
       "      <td>ASUS VivoBook 14 (2021), 14-inch (35.56 cms) F...</td>\n",
       "      <td></td>\n",
       "      <td>57,490</td>\n",
       "    </tr>\n",
       "    <tr>\n",
       "      <th>4</th>\n",
       "      <td>HP Pavilion 14, 11th Gen Intel Core i7-16GB RA...</td>\n",
       "      <td></td>\n",
       "      <td>86,990</td>\n",
       "    </tr>\n",
       "    <tr>\n",
       "      <th>5</th>\n",
       "      <td>Lenovo ThinkBook 15 Intel 11th Gen Core i7 15....</td>\n",
       "      <td></td>\n",
       "      <td>86,900</td>\n",
       "    </tr>\n",
       "    <tr>\n",
       "      <th>6</th>\n",
       "      <td>HP Pavilion x360 11th Gen Intel Core i7 14 inc...</td>\n",
       "      <td></td>\n",
       "      <td>85,890</td>\n",
       "    </tr>\n",
       "    <tr>\n",
       "      <th>7</th>\n",
       "      <td>ASUS TUF Gaming F15 (2021), 15.6\" (39.62 cms) ...</td>\n",
       "      <td></td>\n",
       "      <td>89,990</td>\n",
       "    </tr>\n",
       "    <tr>\n",
       "      <th>8</th>\n",
       "      <td>Samsung Galaxy Book2 Intel 12th Gen core i7 39...</td>\n",
       "      <td></td>\n",
       "      <td>79,990</td>\n",
       "    </tr>\n",
       "    <tr>\n",
       "      <th>9</th>\n",
       "      <td>LG Gram Intel Evo 11th Gen Core i7 17 inches U...</td>\n",
       "      <td></td>\n",
       "      <td>93,799</td>\n",
       "    </tr>\n",
       "  </tbody>\n",
       "</table>\n",
       "</div>"
      ],
      "text/plain": [
       "                                               TITLE RATING     PRICE\n",
       "0  Lenovo IdeaPad Gaming 3 Intel Core i7 10th Gen...           73,990\n",
       "1  Lenovo Legion 5 11th Gen Intel Core i7-11800H ...         1,10,490\n",
       "2  Mi Notebook Ultra 3.2K Resolution Display Inte...           77,490\n",
       "3  ASUS VivoBook 14 (2021), 14-inch (35.56 cms) F...           57,490\n",
       "4  HP Pavilion 14, 11th Gen Intel Core i7-16GB RA...           86,990\n",
       "5  Lenovo ThinkBook 15 Intel 11th Gen Core i7 15....           86,900\n",
       "6  HP Pavilion x360 11th Gen Intel Core i7 14 inc...           85,890\n",
       "7  ASUS TUF Gaming F15 (2021), 15.6\" (39.62 cms) ...           89,990\n",
       "8  Samsung Galaxy Book2 Intel 12th Gen core i7 39...           79,990\n",
       "9  LG Gram Intel Evo 11th Gen Core i7 17 inches U...           93,799"
      ]
     },
     "execution_count": 339,
     "metadata": {},
     "output_type": "execute_result"
    }
   ],
   "source": [
    "laptop = pd.DataFrame({})\n",
    "\n",
    "laptop['TITLE'] = title\n",
    "laptop['RATING'] = rating\n",
    "laptop['PRICE'] =price\n",
    "\n",
    "laptop"
   ]
  },
  {
   "cell_type": "code",
   "execution_count": null,
   "id": "5317e206",
   "metadata": {},
   "outputs": [],
   "source": []
  }
 ],
 "metadata": {
  "kernelspec": {
   "display_name": "Python 3 (ipykernel)",
   "language": "python",
   "name": "python3"
  },
  "language_info": {
   "codemirror_mode": {
    "name": "ipython",
    "version": 3
   },
   "file_extension": ".py",
   "mimetype": "text/x-python",
   "name": "python",
   "nbconvert_exporter": "python",
   "pygments_lexer": "ipython3",
   "version": "3.9.7"
  }
 },
 "nbformat": 4,
 "nbformat_minor": 5
}
